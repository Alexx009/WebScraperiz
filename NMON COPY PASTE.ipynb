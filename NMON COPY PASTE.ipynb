{
  "cells": [
    {
      "cell_type": "markdown",
      "metadata": {
        "id": "view-in-github",
        "colab_type": "text"
      },
      "source": [
        "<a href=\"https://colab.research.google.com/github/Alexx009/WebScraperiz/blob/main/NMON%20COPY%20PASTE.ipynb\" target=\"_parent\"><img src=\"https://colab.research.google.com/assets/colab-badge.svg\" alt=\"Open In Colab\"/></a>"
      ]
    },
    {
      "cell_type": "code",
      "source": [
        "import os\n",
        "import pandas as pd\n",
        "\n",
        "file_path = '/content/NMON FILES'  # Directory containing the files\n",
        "new_file_name = \"new_file.xlsx\"\n",
        "file_url = \"/path/to/files\"  # Replace with your actual file path\n",
        "avg_data = []\n",
        "data = {\n",
        "}\n",
        "\n",
        "# List all files in the directory\n",
        "for file in os.listdir(file_path):\n",
        "    if file.endswith(\".xlsx\") and file != new_file_name:\n",
        "        read_file = pd.read_excel(os.path.join(file_path, file), header=None)\n",
        "        date = file[18:20] + \"/\" + file[16:18] +  \"/\" + file[14:16]\n",
        "        print(date)\n",
        "        data[date] = []\n",
        "        for i in range(2,11):\n",
        "          cell_data = read_file.iloc[53, i]\n",
        "          data[date].append(cell_data)\n",
        "df = pd.DataFrame(data)\n",
        "\n",
        "# Write the DataFrame to an Excel file\n",
        "df.to_excel(os.path.join(file_path, new_file_name), index=False)\n",
        "print(\"Done\")\n",
        "\n",
        "\n"
      ],
      "metadata": {
        "colab": {
          "base_uri": "https://localhost:8080/"
        },
        "id": "oIXMMkL6Exxy",
        "outputId": "661d211b-7991-48e6-d00f-98bbfc000e0e"
      },
      "execution_count": 64,
      "outputs": [
        {
          "output_type": "stream",
          "name": "stdout",
          "text": [
            "29/03/25\n",
            "22/03/25\n",
            "08/03/25\n",
            "27/03/25\n",
            "05/03/25\n",
            "20/03/25\n",
            "03/03/25\n",
            "01/03/25\n",
            "02/03/25\n",
            "12/03/25\n",
            "17/03/25\n",
            "09/03/25\n",
            "15/03/25\n",
            "14/03/25\n",
            "06/03/25\n",
            "07/03/25\n",
            "21/03/25\n",
            "31/03/25\n",
            "13/03/25\n",
            "19/03/25\n",
            "18/03/25\n",
            "04/03/25\n",
            "23/03/25\n",
            "28/03/25\n",
            "25/03/25\n",
            "10/03/25\n",
            "16/03/25\n",
            "30/03/25\n",
            "24/03/25\n",
            "26/03/25\n",
            "11/03/25\n",
            "Done\n"
          ]
        }
      ]
    },
    {
      "cell_type": "code",
      "source": [
        "# Specify the file path and name\n",
        "file_path = 'your/file/path'\n",
        "file_name = 'new_file.xlsx'\n",
        "SRL01DWHWEBPRD_250312\n",
        "SRL01DWHDBPRD_250322\n",
        "DWHORACLEP_0200_250313\n",
        "# Write the DataFrame to an Excel file\n",
        "df.to_excel(os.path.join(file_path, file_name), index=False)"
      ],
      "metadata": {
        "id": "EqargSzvOiip"
      },
      "execution_count": null,
      "outputs": []
    }
  ],
  "metadata": {
    "colab": {
      "name": "Welcome To Colab",
      "provenance": [],
      "include_colab_link": true
    },
    "kernelspec": {
      "display_name": "Python 3",
      "name": "python3"
    }
  },
  "nbformat": 4,
  "nbformat_minor": 0
}