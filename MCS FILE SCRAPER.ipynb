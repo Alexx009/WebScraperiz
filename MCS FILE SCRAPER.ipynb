{
  "cells": [
    {
      "cell_type": "markdown",
      "metadata": {
        "id": "view-in-github",
        "colab_type": "text"
      },
      "source": [
        "<a href=\"https://colab.research.google.com/github/Alexx009/WebScraperiz/blob/main/MCS%20FILE%20SCRAPER.ipynb\" target=\"_parent\"><img src=\"https://colab.research.google.com/assets/colab-badge.svg\" alt=\"Open In Colab\"/></a>"
      ]
    },
    {
      "cell_type": "markdown",
      "source": [],
      "metadata": {
        "id": "i1VxAKMPJkEV"
      }
    },
    {
      "cell_type": "code",
      "source": [
        "import pandas as pd\n",
        "import os\n",
        "import calendar\n",
        "\n",
        "file_url = \"/content/MCS FILES/test\"\n",
        "file_path = os.listdir(file_url)\n",
        "new_file_name = \"MCS June Memory.csv\"\n",
        "flag = True\n",
        "server_desc = \"Description\"\n",
        "server_util_data = \"% Avg\"\n",
        "month_by_num = 7\n",
        "\n",
        "\n",
        "\n",
        "server_dictionary = {\n",
        "    'Device': [],\n",
        "    server_desc : [],\n",
        "}\n",
        "\n",
        "def getting_data_csv(col, name):\n",
        "    for item in col:\n",
        "        server_dictionary[name].append(item)\n",
        "\n",
        "# Initialize the dictionary with dates as keys and empty lists as values\n",
        "num_days = calendar.monthrange(2025, month_by_num)[1]\n",
        "for i in range(num_days):\n",
        "    date = i + 1\n",
        "    server_dictionary[date] = []\n",
        "\n",
        "# Process each file in the file path\n",
        "for file in file_path:\n",
        "    if file.endswith(\".csv\") and file != new_file_name and flag:\n",
        "        try:\n",
        "            read_file = pd.read_csv(os.path.join(file_url, file), skiprows=2)\n",
        "            device_name = read_file[\"Device\"]\n",
        "            device_desc = read_file[server_desc]\n",
        "\n",
        "            getting_data_csv(device_name, 'Device')\n",
        "            getting_data_csv(device_desc, server_desc)\n",
        "\n",
        "            flag = False\n",
        "        except pd.errors.ParserError as e:\n",
        "            print(f\"Error parsing {file}: {e}\")\n",
        "        except KeyError as e:\n",
        "            print(f\"Missing column in {file}: {e}\")\n",
        "\n",
        "# Process files again to get average data\n",
        "for file in file_path:\n",
        "    if file.endswith(\".csv\") and file != new_file_name and file != \".ipynb_checkpoints\":\n",
        "        try:\n",
        "            # Extract date from file name\n",
        "            date_str = ''.join(filter(str.isdigit, file))[:8]\n",
        "            if len(date_str) >= 8:\n",
        "                real_date = int(date_str[6:8])\n",
        "            else:\n",
        "                print(f\"Invalid date format in file name: {file}\")\n",
        "        except ValueError as e:\n",
        "            print(f\"Error converting date in file name {file}: {e}\")\n",
        "\n",
        "\n",
        "        read_file_ave = pd.read_csv(os.path.join(file_url, file),skiprows=2)\n",
        "        if real_date in server_dictionary:\n",
        "            device_avg = read_file_ave[server_util_data]\n",
        "            for item in device_avg:\n",
        "                server_dictionary[real_date].append(item)\n",
        "        else:\n",
        "            print(f\"Key {real_date} not found in dictionary\")\n",
        "\n",
        "# Ensure all lists in server_dictionary are of the same length\n",
        "max_length = max(len(lst) for lst in server_dictionary.values())\n",
        "for key in server_dictionary:\n",
        "    while len(server_dictionary[key]) < max_length:\n",
        "        server_dictionary[key].append(None)\n",
        "\n",
        "# Create DataFrame and save to CSV\n",
        "df = pd.DataFrame(server_dictionary)\n",
        "df.to_csv(os.path.join(file_url, new_file_name), index=False)\n",
        "print(f\"Successfully created new file {new_file_name}\")\n",
        "\n",
        "print(server_dictionary)\n"
      ],
      "metadata": {
        "id": "Tdv75sV2h4KV",
        "outputId": "819d1e97-7e15-411a-c0a4-171746beaaa9",
        "colab": {
          "base_uri": "https://localhost:8080/"
        }
      },
      "execution_count": null,
      "outputs": [
        {
          "output_type": "stream",
          "name": "stdout",
          "text": [
            "Successfully created new file MCS June Memory.csv\n",
            "{'Device': ['BSP01DB01PRD.bsp.gov.ph', 'SXA01LFSDB1P', 'SXV02WWWBSPDB2P', 'SXA01EIOSDB1P', 'SXV01IHRISDB1P', 'SXV01WWWBSPDB1P', 'SAPPRD', 'SXV02WWWBSPDB2P', 'SXV01IHRISDB1P', 'SXV01WWWBSPDB1P', 'BSP01DB01PRD.bsp.gov.ph', 'SXA01ICMSDB1P', 'SRP02ICMSORDB2P', 'SXV01PPLUSDB1P', 'SRP02ICMSORDB2P', 'SXA01PERADB1P', 'SXV01WWWBSPDB2P', 'SXA01MOSDB1P', 'SXV01WWWBSPDB2P', 'sxa01nops1db1p.bsp.gov.ph', 'SXV02ICMSSQDB1P', 'SXV02ICMSSQDB1P', 'SXA01EIOSDB1P', 'SXA01LFSDB1P', 'SAPPRD', 'SXA01MOSDB1P', 'SXA01ICMSDB1P', 'sxa01nops1db1p.bsp.gov.ph', 'SXA01PERADB1P', 'SAPPRD'], 'Description': ['Physical Memory (6)', 'System RAM (12)', 'Physical Memory (17)', 'System RAM (10)', 'Physical Memory (9)', 'Physical Memory (17)', 'System RAM (28)', 'Virtual Memory (16)', 'Virtual Memory (8)', 'Virtual Memory (16)', 'Virtual Memory (5)', 'System RAM (12)', 'Physical Memory (9)', 'Memory (0)', 'Virtual Memory (8)', 'System RAM (10)', 'Physical Memory (22)', 'System RAM (13)', 'Virtual Memory (21)', 'System RAM (10)', 'Virtual Memory (6)', 'Physical Memory (7)', '/dev/hd6 (9)', '/dev/hd6 (11)', '/dev/hd6 (26)', '/dev/hd6 (12)', '/dev/hd6 (11)', '/dev/hd6 (9)', '/dev/hd6 (9)', '/dev/paging00 (27)'], 1: [None, None, None, None, None, None, None, None, None, None, None, None, None, None, None, None, None, None, None, None, None, None, None, None, None, None, None, None, None, None], 2: [None, None, None, None, None, None, None, None, None, None, None, None, None, None, None, None, None, None, None, None, None, None, None, None, None, None, None, None, None, None], 3: [None, None, None, None, None, None, None, None, None, None, None, None, None, None, None, None, None, None, None, None, None, None, None, None, None, None, None, None, None, None], 4: [None, None, None, None, None, None, None, None, None, None, None, None, None, None, None, None, None, None, None, None, None, None, None, None, None, None, None, None, None, None], 5: [None, None, None, None, None, None, None, None, None, None, None, None, None, None, None, None, None, None, None, None, None, None, None, None, None, None, None, None, None, None], 6: [None, None, None, None, None, None, None, None, None, None, None, None, None, None, None, None, None, None, None, None, None, None, None, None, None, None, None, None, None, None], 7: [None, None, None, None, None, None, None, None, None, None, None, None, None, None, None, None, None, None, None, None, None, None, None, None, None, None, None, None, None, None], 8: [None, None, None, None, None, None, None, None, None, None, None, None, None, None, None, None, None, None, None, None, None, None, None, None, None, None, None, None, None, None], 9: [None, None, None, None, None, None, None, None, None, None, None, None, None, None, None, None, None, None, None, None, None, None, None, None, None, None, None, None, None, None], 10: [None, None, None, None, None, None, None, None, None, None, None, None, None, None, None, None, None, None, None, None, None, None, None, None, None, None, None, None, None, None], 11: [None, None, None, None, None, None, None, None, None, None, None, None, None, None, None, None, None, None, None, None, None, None, None, None, None, None, None, None, None, None], 12: [None, None, None, None, None, None, None, None, None, None, None, None, None, None, None, None, None, None, None, None, None, None, None, None, None, None, None, None, None, None], 13: [None, None, None, None, None, None, None, None, None, None, None, None, None, None, None, None, None, None, None, None, None, None, None, None, None, None, None, None, None, None], 14: [None, None, None, None, None, None, None, None, None, None, None, None, None, None, None, None, None, None, None, None, None, None, None, None, None, None, None, None, None, None], 15: [None, None, None, None, None, None, None, None, None, None, None, None, None, None, None, None, None, None, None, None, None, None, None, None, None, None, None, None, None, None], 16: [None, None, None, None, None, None, None, None, None, None, None, None, None, None, None, None, None, None, None, None, None, None, None, None, None, None, None, None, None, None], 17: [None, None, None, None, None, None, None, None, None, None, None, None, None, None, None, None, None, None, None, None, None, None, None, None, None, None, None, None, None, None], 18: [None, None, None, None, None, None, None, None, None, None, None, None, None, None, None, None, None, None, None, None, None, None, None, None, None, None, None, None, None, None], 19: [None, None, None, None, None, None, None, None, None, None, None, None, None, None, None, None, None, None, None, None, None, None, None, None, None, None, None, None, None, None], 20: [None, None, None, None, None, None, None, None, None, None, None, None, None, None, None, None, None, None, None, None, None, None, None, None, None, None, None, None, None, None], 21: [None, None, None, None, None, None, None, None, None, None, None, None, None, None, None, None, None, None, None, None, None, None, None, None, None, None, None, None, None, None], 22: [None, None, None, None, None, None, None, None, None, None, None, None, None, None, None, None, None, None, None, None, None, None, None, None, None, None, None, None, None, None], 23: [None, None, None, None, None, None, None, None, None, None, None, None, None, None, None, None, None, None, None, None, None, None, None, None, None, None, None, None, None, None], 24: [None, None, None, None, None, None, None, None, None, None, None, None, None, None, None, None, None, None, None, None, None, None, None, None, None, None, None, None, None, None], 25: [None, None, None, None, None, None, None, None, None, None, None, None, None, None, None, None, None, None, None, None, None, None, None, None, None, None, None, None, None, None], 26: [None, None, None, None, None, None, None, None, None, None, None, None, None, None, None, None, None, None, None, None, None, None, None, None, None, None, None, None, None, None], 27: [0.956315630189697, 0.949285770284719, 0.62979207535239, 0.627999623616537, 0.616290247824171, 0.587474212331694, 0.572343826293945, 0.57177323489432, 0.560295761384604, 0.550523788505865, 0.498415536390526, 0.481113910675049, 0.471818493934539, 0.42716483113853, 0.415432383774232, 0.409413814544678, 0.333574221396475, 0.320999690464565, 0.303815133665609, 0.208958339691162, 0.0986636682522389, 0.0926370281075472, 0.0302028656005859, 0.0295085906982422, 0.0257415771484375, 0.0187473297119141, 0.0124435424804688, 0.0086021423339843, 0.0071582794189453, 0.000513203938802], 28: [None, None, None, None, None, None, None, None, None, None, None, None, None, None, None, None, None, None, None, None, None, None, None, None, None, None, None, None, None, None], 29: [None, None, None, None, None, None, None, None, None, None, None, None, None, None, None, None, None, None, None, None, None, None, None, None, None, None, None, None, None, None], 30: [None, None, None, None, None, None, None, None, None, None, None, None, None, None, None, None, None, None, None, None, None, None, None, None, None, None, None, None, None, None]}\n"
          ]
        }
      ]
    }
  ],
  "metadata": {
    "colab": {
      "name": "Welcome To Colab",
      "provenance": [],
      "include_colab_link": true
    },
    "kernelspec": {
      "display_name": "Python 3",
      "name": "python3"
    }
  },
  "nbformat": 4,
  "nbformat_minor": 0
}