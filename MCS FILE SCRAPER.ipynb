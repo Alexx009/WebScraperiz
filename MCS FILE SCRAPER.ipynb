{
  "cells": [
    {
      "cell_type": "markdown",
      "metadata": {
        "id": "view-in-github",
        "colab_type": "text"
      },
      "source": [
        "<a href=\"https://colab.research.google.com/github/Alexx009/WebScraperiz/blob/main/MCS%20FILE%20SCRAPER.ipynb\" target=\"_parent\"><img src=\"https://colab.research.google.com/assets/colab-badge.svg\" alt=\"Open In Colab\"/></a>"
      ]
    },
    {
      "cell_type": "markdown",
      "source": [],
      "metadata": {
        "id": "i1VxAKMPJkEV"
      }
    },
    {
      "cell_type": "code",
      "source": [
        "import pandas as pd\n",
        "import os\n",
        "import calendar\n",
        "\n",
        "file_url = \"/content/CPU\"\n",
        "file_path = os.listdir(file_url)\n",
        "new_file_name = \"MCS MAY CPU.csv\"\n",
        "flag = True\n",
        "\n",
        "server_dictionary = {\n",
        "    'Device': [],\n",
        "    'CPU': [],\n",
        "}\n",
        "\n",
        "def getting_data_csv(col, name):\n",
        "    for item in col:\n",
        "        server_dictionary[name].append(item)\n",
        "\n",
        "# Initialize the dictionary with dates as keys and empty lists as values\n",
        "num_days = calendar.monthrange(2025, 4)[1]\n",
        "for i in range(num_days):\n",
        "    date = i + 1\n",
        "    server_dictionary[date] = []\n",
        "\n",
        "# Process each file in the file path\n",
        "for file in file_path:\n",
        "    if file.endswith(\".csv\") and file != new_file_name and flag:\n",
        "        try:\n",
        "            read_file = pd.read_csv(os.path.join(file_url, file))\n",
        "            device_name = read_file[\"Device\"]\n",
        "            device_desc = read_file[\"CPU\"]\n",
        "\n",
        "            getting_data_csv(device_name, 'Device')\n",
        "            getting_data_csv(device_desc, 'CPU')\n",
        "\n",
        "            flag = False\n",
        "        except pd.errors.ParserError as e:\n",
        "            print(f\"Error parsing {file}: {e}\")\n",
        "        except KeyError as e:\n",
        "            print(f\"Missing column in {file}: {e}\")\n",
        "\n",
        "# Process files again to get average data\n",
        "for file in file_path:\n",
        "    if file.endswith(\".csv\") and file != new_file_name and file != \".ipynb_checkpoints\":\n",
        "        try:\n",
        "            # Extract date from file name\n",
        "            date_str = ''.join(filter(str.isdigit, file))[:8]\n",
        "            if len(date_str) >= 8:\n",
        "                real_date = int(date_str[6:8])\n",
        "            else:\n",
        "                print(f\"Invalid date format in file name: {file}\")\n",
        "        except ValueError as e:\n",
        "            print(f\"Error converting date in file name {file}: {e}\")\n",
        "\n",
        "\n",
        "        read_file_ave = pd.read_csv(os.path.join(file_url, file))\n",
        "        if real_date in server_dictionary:\n",
        "            device_avg = read_file_ave[\"% Avg\"]\n",
        "            for item in device_avg:\n",
        "                server_dictionary[real_date].append(item)\n",
        "        else:\n",
        "            print(f\"Key {real_date} not found in dictionary\")\n",
        "\n",
        "# Ensure all lists in server_dictionary are of the same length\n",
        "max_length = max(len(lst) for lst in server_dictionary.values())\n",
        "for key in server_dictionary:\n",
        "    while len(server_dictionary[key]) < max_length:\n",
        "        server_dictionary[key].append(None)\n",
        "\n",
        "# Create DataFrame and save to CSV\n",
        "df = pd.DataFrame(server_dictionary)\n",
        "df.to_csv(os.path.join(file_url, new_file_name), index=False)\n",
        "print(f\"Successfully created new file {new_file_name}\")\n",
        "\n",
        "print(server_dictionary)\n"
      ],
      "metadata": {
        "id": "Tdv75sV2h4KV",
        "outputId": "f21c9d09-b9fc-4e38-8239-6b1c4bc766db",
        "colab": {
          "base_uri": "https://localhost:8080/"
        }
      },
      "execution_count": 46,
      "outputs": [
        {
          "output_type": "stream",
          "name": "stdout",
          "text": [
            "Successfully created new file MCS MAY CPU.csv\n",
            "{'Device': ['SXV01WWWBSPDB2P', 'SXV01PPLUSDB1P', 'BSP01DB01PRD', 'SXA01EIOSDB1P', 'SXV01IHRISDB1P', 'SXA01NOPSDB1P', 'SRP02ICMSORDB2P', 'SXV02ICMSSQDB1P', 'SXA01MOSDB1P', 'SXV01WWWBSPDB1P', 'SXA01PERADB1P', 'SXV02WWWBSPDB2P', 'SXA01ICMSDB1P', 'SXA01LFSDB1P', 'SAPPRD'], 'CPU': ['Total: (x8) Unknown Processor Type; ', 'Total: (x8) GenuineIntel: Intel(R) Xeon(R) Silver 4210 CPU @ 2.20GHz; ', 'Total: (x8) Unknown Processor Type; ', 'Total: (x16) Processor; ', 'Total: (x32) Unknown Processor Type; ', 'Total: (x48) Processor; ', 'Total: (x8) Unknown Processor Type; ', 'Total: (x8) Unknown Processor Type; ', 'Total: (x32) Processor; ', 'Total: (x8) Unknown Processor Type; ', 'Total: (x16) Processor; ', 'Total: (x8) Unknown Processor Type; ', 'Total: (x1) Storage Device CPU Average; ', 'Total: (x1) Storage Device CPU Average; ', 'Total: (x1) Storage Device CPU Average; '], 1: [0.28625, 0.196875, 0.178125, 0.17625, 0.1275, 0.125625, 0.1128125, 0.10125, 0.100625, 0.05875, 0.053, 0.00875, 0.00375, 0.0, 0.0], 2: [0.38, 0.335, 0.31, 0.28875, 0.225, 0.191875, 0.1678125, 0.13, 0.110625, 0.10375, 0.10125, 0.09625, 0.053, 0.0, 0.0], 3: [0.3175, 0.31, 0.2925, 0.2175, 0.1925, 0.185, 0.137083333, 0.1125, 0.1, 0.0878125, 0.07875, 0.0625, 0.053, 0.0, 0.0], 4: [0.28, 0.25125, 0.2375, 0.1825, 0.176875, 0.131666667, 0.1125, 0.1109375, 0.1025, 0.0946875, 0.05875, 0.0475, 0.0, 0.0, 0.0], 5: [0.21125, 0.195, 0.18875, 0.155, 0.138541667, 0.1325, 0.109375, 0.100625, 0.0575, 0.0359375, 0.00625, 0.0025, 0.0, 0.0, 0.0], 6: [0.3025, 0.2025, 0.17875, 0.135416667, 0.1075, 0.1075, 0.1025, 0.0975, 0.0546875, 0.0125, 0.00875, 0.005, 0.0, 0.0, 0.0], 7: [0.30625, 0.2625, 0.19875, 0.18, 0.16125, 0.129583333, 0.114375, 0.11125, 0.100625, 0.09375, 0.08875, 0.0325, 0.0, 0.0, 0.0], 8: [0.2875, 0.28625, 0.26, 0.22, 0.19125, 0.16625, 0.128541667, 0.1128125, 0.1, 0.0778125, 0.06375, 0.0575, 0.0, 0.0, 0.0], 9: [0.28375, 0.27375, 0.190625, 0.1625, 0.1275, 0.125, 0.11125, 0.103125, 0.05625, 0.039375, 0.00875, 0.0075, 0.0, 0.0, 0.0], 10: [0.31625, 0.28125, 0.27375, 0.17, 0.16, 0.128958333, 0.11125, 0.1103125, 0.1028125, 0.100625, 0.085, 0.03375, 0.0, 0.0, 0.0], 11: [0.28875, 0.2875, 0.166875, 0.1575, 0.155, 0.131041667, 0.12375, 0.11625, 0.1125, 0.101875, 0.06625, 0.056875, 0.0, 0.0, None], 12: [None, None, None, None, None, None, None, None, None, None, None, None, None, None, None], 13: [None, None, None, None, None, None, None, None, None, None, None, None, None, None, None], 14: [0.3075, 0.22875, 0.195, 0.17375, 0.1425, 0.131458333, 0.12125, 0.11875, 0.1075, 0.10375, 0.10125, 0.08125, 0.0, 0.0, None], 15: [0.3, 0.27, 0.195625, 0.17625, 0.17, 0.1325, 0.1175, 0.109375, 0.101875, 0.1, 0.085, 0.0478125, 0.0, None, None], 16: [0.2975, 0.29, 0.22, 0.195625, 0.129791667, 0.125, 0.11, 0.10125, 0.095, 0.0725, 0.06875, 0.005, 0.0, None, None], 17: [0.29375, 0.27125, 0.1925, 0.15, 0.14375, 0.127916667, 0.10625, 0.0975, 0.06625, 0.0640625, 0.01, 0.00375, 0.0, None, None], 18: [0.465625, 0.30125, 0.26875, 0.137916667, 0.115, 0.1065625, 0.098125, 0.09, 0.075, 0.0728125, 0.00875, 0.0025, 0.0, 0.0, None], 19: [0.30125, 0.219375, 0.18, 0.16125, 0.13875, 0.101875, 0.0928125, 0.0825, 0.06625, 0.0396875, 0.01, 0.00125, 0.0, 0.0, 0.0], 20: [0.30125, 0.2, 0.1875, 0.151875, 0.114375, 0.09625, 0.0909375, 0.078125, 0.0525, 0.03625, 0.01, 0.0, 0.0, 0.0, 0.0], 21: [0.380625, 0.29375, 0.29375, 0.26875, 0.22, 0.20625, 0.129583333, 0.115, 0.104375, 0.10375, 0.09625, 0.0503125, 0.0, 0.0, 0.0], 22: [0.29625, 0.2775, 0.24625, 0.1925, 0.18625, 0.18375, 0.17375, 0.17375, 0.14125, 0.130833333, 0.108125, 0.098125, 0.0, 0.0, 0.0], 23: [0.35625, 0.29875, 0.184375, 0.1525, 0.129375, 0.12375, 0.1225, 0.1078125, 0.098125, 0.09125, 0.07375, 0.05875, 0.0, 0.0, 0.0], 24: [0.37625, 0.32625, 0.2875, 0.205625, 0.179375, 0.141875, 0.125, 0.0975, 0.09625, 0.06, 0.0528125, 0.0325, 0.0, 0.0, 0.0], 25: [0.345, 0.2875, 0.2025, 0.193125, 0.17125, 0.12625, 0.1175, 0.1165625, 0.1053125, 0.085, 0.07, 0.02875, 0.0, 0.0, 0.0], 26: [0.28375, 0.2125, 0.140416667, 0.12, 0.12, 0.08125, 0.0796875, 0.07, 0.06625, 0.0365625, 0.0275, 0.01, 0.0, 0.0, 0.0], 27: [0.29, 0.1375, 0.1225, 0.106875, 0.10625, 0.090625, 0.085, 0.0775, 0.065, 0.0525, 0.03, 0.01, 0.0, 0.0, 0.0], 28: [0.45875, 0.32875, 0.29625, 0.195625, 0.136875, 0.131458333, 0.1225, 0.11125, 0.1065625, 0.10125, 0.0825, 0.03, 0.0, 0.0, 0.0], 29: [0.3875, 0.30375, 0.199375, 0.1625, 0.126875, 0.12125, 0.12, 0.115, 0.105625, 0.08625, 0.06875, 0.03, 0.0, 0.0, 0.0], 30: [0.41, 0.2975, 0.2575, 0.25, 0.1925, 0.129375, 0.1225, 0.1196875, 0.1175, 0.1059375, 0.08625, 0.08125, 0.0, 0.0, 0.0]}\n"
          ]
        }
      ]
    }
  ],
  "metadata": {
    "colab": {
      "name": "Welcome To Colab",
      "provenance": [],
      "include_colab_link": true
    },
    "kernelspec": {
      "display_name": "Python 3",
      "name": "python3"
    }
  },
  "nbformat": 4,
  "nbformat_minor": 0
}