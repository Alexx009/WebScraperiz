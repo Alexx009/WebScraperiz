{
  "cells": [
    {
      "cell_type": "markdown",
      "metadata": {
        "id": "view-in-github",
        "colab_type": "text"
      },
      "source": [
        "<a href=\"https://colab.research.google.com/github/Alexx009/WebScraperiz/blob/main/Practice%20280325.ipynb\" target=\"_parent\"><img src=\"https://colab.research.google.com/assets/colab-badge.svg\" alt=\"Open In Colab\"/></a>"
      ]
    },
    {
      "cell_type": "markdown",
      "source": [],
      "metadata": {
        "id": "i1VxAKMPJkEV"
      }
    },
    {
      "cell_type": "code",
      "source": [
        "import pandas as pd\n",
        "import os\n",
        "import calendar\n",
        "\n",
        "file_url = \"/content/TEST\"\n",
        "file_path = os.listdir(file_url)\n",
        "new_file_name = \"MCS MARCH Memory.csv\"\n",
        "\n",
        "def getting_data_csv(col, name):\n",
        "  for item in col:\n",
        "    server_dictionary[name].append(item)\n",
        "server_dictionary= {\n",
        "  'Device': [],\n",
        "  'Description': [],\n",
        "}\n",
        "num_days = calendar.monthrange(2025, 3)[1]\n",
        "for i in range(30):\n",
        "  date = f\"{str(i+1)}/03/25\"\n",
        "  server_dictionary[date] = \"\"\n",
        "\n",
        "for file in file_path:\n",
        "\n",
        "  if file.endswith(\".csv\") and file != new_file_name:\n",
        "    read_file = pd.read_csv(os.path.join(file_url, file))\n",
        "    device_name = read_file[\"Device\"]\n",
        "    device_desc = read_file[\"Description\"]\n",
        "\n",
        "    getting_data_csv(device_name, 'Device')\n",
        "    getting_data_csv(device_desc, 'Description')\n",
        "\n",
        "\n",
        "    df = pd.DataFrame(server_dictionary)\n",
        "    df.to_csv(os.path.join(file_url, new_file_name), index=False)\n",
        "    print(f\"Successfully created new file {new_file_name}\")\n",
        "\n",
        "\n",
        "for file in file_path:\n",
        "  date = []\n",
        "  for i in file:\n",
        "    if i.isdigit():\n",
        "\n",
        "      date.append(i)\n",
        "  date_get = \"\".join(date[0:8])\n",
        "  real_date = date_get[6:8]+ \"/\" + date_get[4:6] +\"/\"+ date_get[0:4]\n",
        "\n",
        "  if file != new_file_name and file != \".ipynb_checkpoints\":\n",
        "    read_file_ave = pd.read_csv(os.path.join(file_url, file))\n",
        "    # device_avg = read_file_ave[str(real_date)]\n",
        "    # getting_data_csv(device_avg, str(real_date))\n",
        "\n",
        "    df = pd.DataFrame(server_dictionary)\n",
        "    df.to_csv(os.path.join(file_url, new_file_name), index=False)\n",
        "    print(real_date)\n",
        "    print(server_dictionary)\n",
        "\n",
        "\n",
        "\n",
        "\n",
        ""
      ],
      "metadata": {
        "colab": {
          "base_uri": "https://localhost:8080/"
        },
        "id": "bKZbEE8t5mIC",
        "outputId": "2f0971e8-529f-4f0f-e814-6d28b8fb7d6a"
      },
      "execution_count": 184,
      "outputs": [
        {
          "output_type": "stream",
          "name": "stdout",
          "text": [
            "Successfully created new file MCS MARCH Memory.csv\n",
            "Successfully created new file MCS MARCH Memory.csv\n",
            "27/03/2025\n",
            "{'Device': ['SXA01LFSDB1P', 'SXV01WWWBSPDB2P', 'SXV01WWWBSPDB2P', 'SXV01IHRISDB1P', 'SXV02WWWBSPDB1P', 'SXA01PERADB1P', 'SXV01WWWBSPDB1P', 'SXV01IHRISDB1P', 'SAPPRD', 'SXV02WWWBSPDB1P', 'SXV01WWWBSPDB1P', 'BSP01DB01PRD', 'SXA01MOSDB1P', 'SXA01EIOSDB1P', 'SXA01ICMSDB1P', 'SRP02ICMSORDB2P', 'SXA01NOPSDB1P', 'SXV01PPLUSDB1P', 'SRP02ICMSORDB2P', 'BSP01DB01PRD', 'SXV02ICMSSQDB1P', 'SXV02ICMSSQDB1P', 'SAPPRD', 'SXA01NOPSDB1P', 'SXA01LFSDB1P', 'SXA01EIOSDB1P', 'SXA01MOSDB1P', 'SXA01ICMSDB1P', 'SXA01PERADB1P', 'SAPPRD', 'SXA01LFSDB1P', 'SXV01WWWBSPDB2P', 'SXV01WWWBSPDB2P', 'SXV01IHRISDB1P', 'SXV02WWWBSPDB1P', 'SXA01PERADB1P', 'SXV01WWWBSPDB1P', 'SXV01IHRISDB1P', 'SAPPRD', 'SXV02WWWBSPDB1P', 'SXV01WWWBSPDB1P', 'BSP01DB01PRD', 'SXA01MOSDB1P', 'SRP02ICMSORDB2P', 'SXA01EIOSDB1P', 'SXA01NOPSDB1P', 'SXA01ICMSDB1P', 'SXV01PPLUSDB1P', 'SRP02ICMSORDB2P', 'BSP01DB01PRD', 'SXV02ICMSSQDB1P', 'SXV02ICMSSQDB1P', 'SAPPRD', 'SXA01NOPSDB1P', 'SXA01LFSDB1P', 'SXA01EIOSDB1P', 'SXA01MOSDB1P', 'SXA01ICMSDB1P', 'SXA01PERADB1P', 'SAPPRD'], 'Description': ['System RAM (12)', 'Physical Memory (15)', 'Virtual Memory (14)', 'Physical Memory (9)', 'Physical Memory (15)', 'System RAM (10)', 'Physical Memory (12)', 'Virtual Memory (8)', 'System RAM (28)', 'Virtual Memory (14)', 'Virtual Memory (11)', 'Physical Memory (6)', 'System RAM (13)', 'System RAM (10)', 'System RAM (12)', 'Physical Memory (9)', 'System RAM (10)', 'Memory (0)', 'Virtual Memory (8)', 'Virtual Memory (5)', 'Virtual Memory (6)', 'Physical Memory (7)', '/dev/hd6 (26)', '/dev/hd6 (9)', '/dev/hd6 (11)', '/dev/hd6 (9)', '/dev/hd6 (12)', '/dev/hd6 (11)', '/dev/hd6 (9)', '/dev/paging00 (27)', 'System RAM (12)', 'Physical Memory (15)', 'Virtual Memory (14)', 'Physical Memory (9)', 'Physical Memory (15)', 'System RAM (10)', 'Physical Memory (12)', 'Virtual Memory (8)', 'System RAM (28)', 'Virtual Memory (14)', 'Virtual Memory (11)', 'Physical Memory (6)', 'System RAM (13)', 'Physical Memory (9)', 'System RAM (10)', 'System RAM (10)', 'System RAM (12)', 'Memory (0)', 'Virtual Memory (8)', 'Virtual Memory (5)', 'Virtual Memory (6)', 'Physical Memory (7)', '/dev/hd6 (26)', '/dev/hd6 (9)', '/dev/hd6 (11)', '/dev/hd6 (9)', '/dev/hd6 (12)', '/dev/hd6 (11)', '/dev/hd6 (9)', '/dev/paging00 (27)'], '1/03/25': '', '2/03/25': '', '3/03/25': '', '4/03/25': '', '5/03/25': '', '6/03/25': '', '7/03/25': '', '8/03/25': '', '9/03/25': '', '10/03/25': '', '11/03/25': '', '12/03/25': '', '13/03/25': '', '14/03/25': '', '15/03/25': '', '16/03/25': '', '17/03/25': '', '18/03/25': '', '19/03/25': '', '20/03/25': '', '21/03/25': '', '22/03/25': '', '23/03/25': '', '24/03/25': '', '25/03/25': '', '26/03/25': '', '27/03/25': '', '28/03/25': '', '29/03/25': '', '30/03/25': ''}\n",
            "26/03/2025\n",
            "{'Device': ['SXA01LFSDB1P', 'SXV01WWWBSPDB2P', 'SXV01WWWBSPDB2P', 'SXV01IHRISDB1P', 'SXV02WWWBSPDB1P', 'SXA01PERADB1P', 'SXV01WWWBSPDB1P', 'SXV01IHRISDB1P', 'SAPPRD', 'SXV02WWWBSPDB1P', 'SXV01WWWBSPDB1P', 'BSP01DB01PRD', 'SXA01MOSDB1P', 'SXA01EIOSDB1P', 'SXA01ICMSDB1P', 'SRP02ICMSORDB2P', 'SXA01NOPSDB1P', 'SXV01PPLUSDB1P', 'SRP02ICMSORDB2P', 'BSP01DB01PRD', 'SXV02ICMSSQDB1P', 'SXV02ICMSSQDB1P', 'SAPPRD', 'SXA01NOPSDB1P', 'SXA01LFSDB1P', 'SXA01EIOSDB1P', 'SXA01MOSDB1P', 'SXA01ICMSDB1P', 'SXA01PERADB1P', 'SAPPRD', 'SXA01LFSDB1P', 'SXV01WWWBSPDB2P', 'SXV01WWWBSPDB2P', 'SXV01IHRISDB1P', 'SXV02WWWBSPDB1P', 'SXA01PERADB1P', 'SXV01WWWBSPDB1P', 'SXV01IHRISDB1P', 'SAPPRD', 'SXV02WWWBSPDB1P', 'SXV01WWWBSPDB1P', 'BSP01DB01PRD', 'SXA01MOSDB1P', 'SRP02ICMSORDB2P', 'SXA01EIOSDB1P', 'SXA01NOPSDB1P', 'SXA01ICMSDB1P', 'SXV01PPLUSDB1P', 'SRP02ICMSORDB2P', 'BSP01DB01PRD', 'SXV02ICMSSQDB1P', 'SXV02ICMSSQDB1P', 'SAPPRD', 'SXA01NOPSDB1P', 'SXA01LFSDB1P', 'SXA01EIOSDB1P', 'SXA01MOSDB1P', 'SXA01ICMSDB1P', 'SXA01PERADB1P', 'SAPPRD'], 'Description': ['System RAM (12)', 'Physical Memory (15)', 'Virtual Memory (14)', 'Physical Memory (9)', 'Physical Memory (15)', 'System RAM (10)', 'Physical Memory (12)', 'Virtual Memory (8)', 'System RAM (28)', 'Virtual Memory (14)', 'Virtual Memory (11)', 'Physical Memory (6)', 'System RAM (13)', 'System RAM (10)', 'System RAM (12)', 'Physical Memory (9)', 'System RAM (10)', 'Memory (0)', 'Virtual Memory (8)', 'Virtual Memory (5)', 'Virtual Memory (6)', 'Physical Memory (7)', '/dev/hd6 (26)', '/dev/hd6 (9)', '/dev/hd6 (11)', '/dev/hd6 (9)', '/dev/hd6 (12)', '/dev/hd6 (11)', '/dev/hd6 (9)', '/dev/paging00 (27)', 'System RAM (12)', 'Physical Memory (15)', 'Virtual Memory (14)', 'Physical Memory (9)', 'Physical Memory (15)', 'System RAM (10)', 'Physical Memory (12)', 'Virtual Memory (8)', 'System RAM (28)', 'Virtual Memory (14)', 'Virtual Memory (11)', 'Physical Memory (6)', 'System RAM (13)', 'Physical Memory (9)', 'System RAM (10)', 'System RAM (10)', 'System RAM (12)', 'Memory (0)', 'Virtual Memory (8)', 'Virtual Memory (5)', 'Virtual Memory (6)', 'Physical Memory (7)', '/dev/hd6 (26)', '/dev/hd6 (9)', '/dev/hd6 (11)', '/dev/hd6 (9)', '/dev/hd6 (12)', '/dev/hd6 (11)', '/dev/hd6 (9)', '/dev/paging00 (27)'], '1/03/25': '', '2/03/25': '', '3/03/25': '', '4/03/25': '', '5/03/25': '', '6/03/25': '', '7/03/25': '', '8/03/25': '', '9/03/25': '', '10/03/25': '', '11/03/25': '', '12/03/25': '', '13/03/25': '', '14/03/25': '', '15/03/25': '', '16/03/25': '', '17/03/25': '', '18/03/25': '', '19/03/25': '', '20/03/25': '', '21/03/25': '', '22/03/25': '', '23/03/25': '', '24/03/25': '', '25/03/25': '', '26/03/25': '', '27/03/25': '', '28/03/25': '', '29/03/25': '', '30/03/25': ''}\n"
          ]
        }
      ]
    },
    {
      "cell_type": "code",
      "source": [],
      "metadata": {
        "id": "bz80HWjvSXqg"
      },
      "execution_count": null,
      "outputs": []
    }
  ],
  "metadata": {
    "colab": {
      "name": "Welcome To Colab",
      "provenance": [],
      "include_colab_link": true
    },
    "kernelspec": {
      "display_name": "Python 3",
      "name": "python3"
    }
  },
  "nbformat": 4,
  "nbformat_minor": 0
}