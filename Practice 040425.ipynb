{
  "cells": [
    {
      "cell_type": "markdown",
      "metadata": {
        "id": "view-in-github",
        "colab_type": "text"
      },
      "source": [
        "<a href=\"https://colab.research.google.com/github/Alexx009/WebScraperiz/blob/main/Practice%20040425.ipynb\" target=\"_parent\"><img src=\"https://colab.research.google.com/assets/colab-badge.svg\" alt=\"Open In Colab\"/></a>"
      ]
    },
    {
      "cell_type": "markdown",
      "source": [],
      "metadata": {
        "id": "i1VxAKMPJkEV"
      }
    },
    {
      "cell_type": "code",
      "source": [
        "\n",
        "chars = [\"a\",\"b\",\"b\",\"b\",\"b\",\"b\",\"b\",\"b\",\"b\",\"b\",\"b\",\"b\",\"b\"]\n",
        "num = 0\n",
        "counter = 0\n",
        "unique_char = []\n",
        "counts = []\n",
        "for uniq_char in chars:\n",
        "  if uniq_char not in unique_char:\n",
        "      unique_char.append(uniq_char)\n",
        "\n",
        "for i in range(len(chars)):\n",
        "  if unique_char[num] == chars[i] :\n",
        "    counter += 1\n",
        "  else:\n",
        "    counts.append(str(counter))\n",
        "    counter = 0\n",
        "    num += 1\n",
        "counter += 1\n",
        "counts.append(counter)\n",
        "result = []\n",
        "min_length = min(len(unique_char), len(counts))\n",
        "\n",
        "# Append elements alternatively from both lists\n",
        "for i in range(min_length):\n",
        "    result.append(unique_char[i])\n",
        "    if counts[i] != '1':\n",
        "      result.append(counts[i])\n",
        "chars = result\n",
        "print(result)\n",
        "print(chars)"
      ],
      "metadata": {
        "id": "jA1XPRW3vTup"
      },
      "execution_count": null,
      "outputs": []
    }
  ],
  "metadata": {
    "colab": {
      "name": "Welcome To Colab",
      "provenance": [],
      "include_colab_link": true
    },
    "kernelspec": {
      "display_name": "Python 3",
      "name": "python3"
    }
  },
  "nbformat": 4,
  "nbformat_minor": 0
}