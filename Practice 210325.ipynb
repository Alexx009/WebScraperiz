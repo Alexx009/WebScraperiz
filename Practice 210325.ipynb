{
  "cells": [
    {
      "cell_type": "markdown",
      "metadata": {
        "id": "view-in-github",
        "colab_type": "text"
      },
      "source": [
        "<a href=\"https://colab.research.google.com/github/Alexx009/WebScraperiz/blob/main/Practice%20210325.ipynb\" target=\"_parent\"><img src=\"https://colab.research.google.com/assets/colab-badge.svg\" alt=\"Open In Colab\"/></a>"
      ]
    },
    {
      "cell_type": "code",
      "source": [
        "import requests\n",
        "from bs4 import BeautifulSoup\n",
        "\n",
        "def call_url(url):\n",
        "  response = requests.get(url)\n",
        "  soup = BeautifulSoup(response.content,'html.parser')\n",
        "  return soup\n",
        "\n",
        "def get_books(genres):\n",
        "  for website in genres:\n",
        "    ol = website.find('ol')\n",
        "    if ol:\n",
        "      title = [title.get('title') for title in ol.find_all('a') if title.get('title')]\n",
        "      book_title.extend(title)\n",
        "\n",
        "url = call_url(\"https://books.toscrape.com\")\n",
        "flag = True\n",
        "\n",
        "book_title = []\n",
        "for website in websites:\n",
        "  ul = website.find('ul', class_='nav')\n",
        "  if ul:\n",
        "    genre_list = [li.get_text(strip=True) for li in ul.find_all('li')]\n",
        "    genre_list.pop(0)\n",
        "    genre_list.insert(0, \"All\")\n",
        "print(genre_list)\n",
        "\n",
        "userGenrePick = input(\"Enter a genre: \")\n",
        "for index, genre in enumerate(genre_list):\n",
        "  if genre == userGenrePick.title():\n",
        "    if userGenrePick.title() == \"All\":\n",
        "      url = 'https://books.toscrape.com/catalogue/category/books_1/'\n",
        "    else:\n",
        "      url = 'https://books.toscrape.com/catalogue/category/books/' + genre.lower() + '_' + str(index + 1) + '/index.html'\n",
        "    print(url)\n",
        "    soup = call_url(url)\n",
        "    genres = soup.find_all('div', class_='row')\n",
        "    page = 0\n",
        "    while True:\n",
        "      soup = call_url(url)\n",
        "      pager = soup.find('li', class_='next')\n",
        "      genres = soup.find_all('div', class_='row')\n",
        "      if pager:\n",
        "        print(url)\n",
        "        print(page)\n",
        "        if page < 1:\n",
        "          page += 1\n",
        "          url = 'https://books.toscrape.com/catalogue/category/' + genre.lower() + '_' + str(index + 1) +'/' + 'index.html'\n",
        "          get_books(genres)\n",
        "\n",
        "          print('index')\n",
        "\n",
        "        elif page >= 1:\n",
        "          page += 1\n",
        "          url = 'https://books.toscrape.com/catalogue/category/' + genre.lower() + '_' + str(index + 1) +'/' + 'page-' + str(page) + '.html'\n",
        "          get_books(genres)\n",
        "          print(f'page{page}')\n",
        "\n",
        "\n",
        "\n",
        "\n",
        "\n",
        "      elif not pager:\n",
        "          url = 'https://books.toscrape.com/catalogue/category/books/' + genre.lower() + '_' + str(index + 1) + '/index.html'\n",
        "          get_books(genres)\n",
        "          break\n",
        "\n",
        "\n",
        "    count = 1\n",
        "    print(book_title)\n",
        "    for i in book_title:\n",
        "      print(f'{count}: {i}')\n",
        "      count += 1\n",
        "    break"
      ],
      "metadata": {
        "outputId": "974b3990-49c7-4a95-bcad-273cd7e93e96",
        "colab": {
          "base_uri": "https://localhost:8080/"
        },
        "id": "c2-KlEOxfNiA",
        "collapsed": true
      },
      "execution_count": 203,
      "outputs": [
        {
          "output_type": "stream",
          "name": "stdout",
          "text": [
            "['All', 'Travel', 'Mystery', 'Historical Fiction', 'Sequential Art', 'Classics', 'Philosophy', 'Romance', 'Womens Fiction', 'Fiction', 'Childrens', 'Religion', 'Nonfiction', 'Music', 'Default', 'Science Fiction', 'Sports and Games', 'Add a comment', 'Fantasy', 'New Adult', 'Young Adult', 'Science', 'Poetry', 'Paranormal', 'Art', 'Psychology', 'Autobiography', 'Parenting', 'Adult Fiction', 'Humor', 'Horror', 'History', 'Food and Drink', 'Christian Fiction', 'Business', 'Biography', 'Thriller', 'Contemporary', 'Spirituality', 'Academic', 'Self Help', 'Historical', 'Christian', 'Suspense', 'Short Stories', 'Novels', 'Health', 'Politics', 'Cultural', 'Erotica', 'Crime']\n",
            "Enter a genre: mystery\n",
            "https://books.toscrape.com/catalogue/category/books/mystery_3/index.html\n",
            "https://books.toscrape.com/catalogue/category/books/mystery_3/index.html\n",
            "0\n",
            "index\n",
            "['Sharp Objects', 'In a Dark, Dark Wood', 'The Past Never Ends', 'A Murder in Time', 'The Murder of Roger Ackroyd (Hercule Poirot #4)', 'The Last Mile (Amos Decker #2)', 'That Darkness (Gardiner and Renner #1)', 'Tastes Like Fear (DI Marnie Rome #3)', 'A Time of Torment (Charlie Parker #14)', 'A Study in Scarlet (Sherlock Holmes #1)', 'Poisonous (Max Revere Novels #3)', 'Murder at the 42nd Street Library (Raymond Ambler #1)', 'Most Wanted', 'Hide Away (Eve Duncan #20)', 'Boar Island (Anna Pigeon #19)', 'The Widow', 'Playing with Fire', 'What Happened on Beale Street (Secrets of the South Mysteries #2)', \"The Bachelor Girl's Guide to Murder (Herringford and Watts Mysteries #1)\", 'Delivering the Truth (Quaker Midwife Mystery #1)']\n",
            "1: Sharp Objects\n",
            "2: In a Dark, Dark Wood\n",
            "3: The Past Never Ends\n",
            "4: A Murder in Time\n",
            "5: The Murder of Roger Ackroyd (Hercule Poirot #4)\n",
            "6: The Last Mile (Amos Decker #2)\n",
            "7: That Darkness (Gardiner and Renner #1)\n",
            "8: Tastes Like Fear (DI Marnie Rome #3)\n",
            "9: A Time of Torment (Charlie Parker #14)\n",
            "10: A Study in Scarlet (Sherlock Holmes #1)\n",
            "11: Poisonous (Max Revere Novels #3)\n",
            "12: Murder at the 42nd Street Library (Raymond Ambler #1)\n",
            "13: Most Wanted\n",
            "14: Hide Away (Eve Duncan #20)\n",
            "15: Boar Island (Anna Pigeon #19)\n",
            "16: The Widow\n",
            "17: Playing with Fire\n",
            "18: What Happened on Beale Street (Secrets of the South Mysteries #2)\n",
            "19: The Bachelor Girl's Guide to Murder (Herringford and Watts Mysteries #1)\n",
            "20: Delivering the Truth (Quaker Midwife Mystery #1)\n"
          ]
        }
      ]
    },
    {
      "cell_type": "code",
      "source": [],
      "metadata": {
        "id": "fvMnFIwNKlb7"
      },
      "execution_count": null,
      "outputs": []
    }
  ],
  "metadata": {
    "colab": {
      "name": "Welcome To Colab",
      "provenance": [],
      "include_colab_link": true
    },
    "kernelspec": {
      "display_name": "Python 3",
      "name": "python3"
    }
  },
  "nbformat": 4,
  "nbformat_minor": 0
}