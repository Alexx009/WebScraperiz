{
  "cells": [
    {
      "cell_type": "markdown",
      "metadata": {
        "id": "view-in-github",
        "colab_type": "text"
      },
      "source": [
        "<a href=\"https://colab.research.google.com/github/Alexx009/WebScraperiz/blob/main/Practice%20210325.ipynb\" target=\"_parent\"><img src=\"https://colab.research.google.com/assets/colab-badge.svg\" alt=\"Open In Colab\"/></a>"
      ]
    },
    {
      "cell_type": "code",
      "source": [
        "import os\n",
        "import shutil\n",
        "\n",
        "path = \"/content/sample_data\"\n",
        "destination = '/content/csv'\n",
        "\n",
        "files = os.listdir(path)\n",
        "\n",
        "\n",
        "for file in files:\n",
        "  name, extention = os.path.splitext(file)\n",
        "  file_path = os.path.join(path,file)\n",
        "  if os.path.isfile(file_path):\n",
        "    if extention.lower() == \".csv\":\n",
        "      shutil.move(file_path, destination )\n",
        "      print(f'{file} is moved to {destination} ')\n",
        "  else:\n",
        "    print(f'{file} is not a file')\n",
        "\n"
      ],
      "metadata": {
        "colab": {
          "base_uri": "https://localhost:8080/"
        },
        "id": "jihyi2LGmbvU",
        "outputId": "f38898bb-7d59-4855-8723-7bc2c21ad207"
      },
      "execution_count": null,
      "outputs": [
        {
          "output_type": "stream",
          "name": "stdout",
          "text": [
            "mnist_test.csv is moved to /content/csv \n",
            "california_housing_train.csv is moved to /content/csv \n",
            "mnist_train_small.csv is moved to /content/csv \n",
            "california_housing_test.csv is moved to /content/csv \n"
          ]
        }
      ]
    },
    {
      "cell_type": "code",
      "source": [
        "import os\n",
        "from datetime import date\n",
        "\n",
        "path = \"/content/\"\n",
        "\n",
        "files = os.listdir(path)\n",
        "count = 0\n",
        "for file in files:\n",
        "  name, ext = os.path.splitext(file)\n",
        "\n",
        "  file_name = name[:-4] + date.today().strftime(' %d%m%y') + ext\n",
        "\n",
        "  path_file = os.path.join(path,file)\n",
        "  path_file_rename = os.path.join(path,file_name)\n",
        "  if ext == '.csv':\n",
        "    os.rename(path_file, path_file_rename)\n",
        "    print(f'{count}: {path_file_rename}')\n",
        "    count += 1"
      ],
      "metadata": {
        "colab": {
          "base_uri": "https://localhost:8080/"
        },
        "id": "VTWGVl9owQdY",
        "outputId": "bd941ed7-2ce2-4c7b-def1-c9192f21d14c",
        "collapsed": true
      },
      "execution_count": null,
      "outputs": [
        {
          "output_type": "stream",
          "name": "stdout",
          "text": [
            "0: /content/CPU Utilization 190325.csv\n",
            "1: /content/Disk Utilization 190325.csv\n",
            "2: /content/Memory Utilization 190325.csv\n"
          ]
        }
      ]
    },
    {
      "cell_type": "code",
      "source": [
        "import requests\n",
        "from bs4 import BeautifulSoup\n",
        "\n",
        "url = \"https://www.scrapethissite.com/pages/simple/\"\n",
        "\n",
        "response = requests.get(url)\n",
        "\n",
        "soup = BeautifulSoup(response.content,'html.parser')\n",
        "country_div = soup.find_all('div', \"country\")\n",
        "countries = []\n",
        "countries_details = []\n",
        "for div in country_div:\n",
        "  country = div.find('h3', class_='country-name')\n",
        "  capital = div.find('span', class_='country-capital')\n",
        "  population = div.find('span', class_='country-population')\n",
        "  area = div.find('span', class_='country-area')\n",
        "\n",
        "  country_info = {}\n",
        "  if country:\n",
        "    countries.append(country.text.strip())\n",
        "  if capital:\n",
        "    country_info = {\n",
        "        \"Capital\" : capital.text.strip(),\n",
        "        \"Population\" : population.text.strip(),\n",
        "        \"Area (km^2)\" : area.text.strip()\n",
        "    }\n",
        "    countries_details.append(country_info)\n",
        "\n",
        "print(countries[0])\n",
        "print(countries_details[0])"
      ],
      "metadata": {
        "colab": {
          "base_uri": "https://localhost:8080/"
        },
        "id": "B_15bmQW_XQa",
        "outputId": "7944f46f-de6c-4376-ff6d-d91fdde8f738",
        "collapsed": true
      },
      "execution_count": null,
      "outputs": [
        {
          "output_type": "stream",
          "name": "stdout",
          "text": [
            "Andorra\n",
            "{'Capital': 'Andorra la Vella', 'Population': '84000', 'Area (km^2)': '468.0'}\n"
          ]
        }
      ]
    },
    {
      "cell_type": "code",
      "source": [
        "import requests\n",
        "from bs4 import BeautifulSoup\n",
        "\n",
        "url = \"https://www.scrapethissite.com/pages/forms/?q=\"\n",
        "\n",
        "\n",
        "\n",
        "soup = BeautifulSoup(response.content,'html.parser')\n",
        "teams = soup.find_all('tr', class_='team')\n",
        "search_input = soup.find('input', {'id': 'q'})\n",
        "search_input = input(\"Enter a team: \")\n",
        "\n",
        "\n",
        "response = requests.get(url+str(search_input))\n",
        "\n",
        "for team in teams:\n",
        "  name = team.find('td', class_='name')\n",
        "  year = team.find('td', class_='year')\n",
        "  winrate = team.find('td', class_='pct')\n",
        "  if team:\n",
        "    if winrate and winrate.text.strip():  # Check if winrate is not None and has text\n",
        "        winrate_float = float(winrate.text.strip())\n",
        "        print(f'{name.text.strip()}: {year.text.strip()}: {winrate_float}')\n",
        "    else:\n",
        "        print(f'{name.text.strip()}: {year.text.strip()}: Winrate not found')\n",
        "\n"
      ],
      "metadata": {
        "colab": {
          "base_uri": "https://localhost:8080/"
        },
        "id": "6Q26fs6-VANh",
        "outputId": "e2756a1f-7fb2-4318-a0d8-a6571a5852ca",
        "collapsed": true
      },
      "execution_count": null,
      "outputs": [
        {
          "output_type": "stream",
          "name": "stdout",
          "text": [
            "Enter a team: Buffalo\n",
            "Boston Bruins: 1990: 0.55\n",
            "Boston Bruins: 1991: 0.45\n",
            "Boston Bruins: 1992: 0.607\n",
            "Boston Bruins: 1993: 0.5\n",
            "Boston Bruins: 1994: 0.562\n",
            "Boston Bruins: 1995: 0.488\n",
            "Boston Bruins: 1996: 0.317\n",
            "Boston Bruins: 1997: 0.476\n",
            "Boston Bruins: 1998: 0.476\n",
            "Boston Bruins: 1999: 0.293\n",
            "Boston Bruins: 2000: 0.439\n",
            "Boston Bruins: 2001: 0.524\n",
            "Boston Bruins: 2002: 0.439\n",
            "Boston Bruins: 2003: 0.5\n",
            "Boston Bruins: 2005: 0.354\n",
            "Boston Bruins: 2006: 0.427\n",
            "Boston Bruins: 2007: 0.5\n",
            "Boston Bruins: 2008: 0.646\n",
            "Boston Bruins: 2009: 0.476\n",
            "Boston Bruins: 2010: 0.561\n",
            "Boston Bruins: 2011: 0.598\n"
          ]
        }
      ]
    },
    {
      "cell_type": "code",
      "source": [
        "import requests\n",
        "from bs4 import BeautifulSoup\n",
        "\n",
        "url = \"https://books.toscrape.com/catalogue/category/\"\n",
        "response = requests.get(url)\n",
        "soup = BeautifulSoup(response.content,'html.parser')\n",
        "flag = True\n",
        "\n",
        "websites = soup.find_all('div', class_='row')\n",
        "for website in websites:\n",
        "  ul = website.find('ul', class_='nav')\n",
        "  if ul:\n",
        "    genre_list = [li.get_text(strip=True) for li in ul.find_all('li')]\n",
        "genre_list.pop(0)\n",
        "genre_list.insert(0, \"All\")\n",
        "print(genre_list)\n",
        "userGenrePick = input(\"Enter a genre: \")\n",
        "for genre in genre_list:\n",
        "  counter = 2\n",
        "  if genre == userGenrePick.title():\n",
        "    url = 'https://books.toscrape.com/catalogue/category/books/' + genre.lower() + '_' + str(counter) + '/index.html'\n",
        "    print(url)\n",
        "    response = requests.get(url)\n",
        "    soup = BeautifulSoup(response.content,'html.parser')\n",
        "\n",
        "    for website in websites:\n",
        "      ol = website.find('ol')\n",
        "      if ol:\n",
        "        title = ol.find('h3')\n",
        "        if title:\n",
        "          print(title.text.strip())\n",
        "  else:\n",
        "    counter +=  1"
      ],
      "metadata": {
        "colab": {
          "base_uri": "https://localhost:8080/"
        },
        "id": "IAtNtBgRzjme",
        "outputId": "2b6b4e30-692e-423a-e9b3-6b171eb5097b"
      },
      "execution_count": null,
      "outputs": [
        {
          "output_type": "stream",
          "name": "stdout",
          "text": [
            "['All', 'Travel', 'Mystery', 'Historical Fiction', 'Sequential Art', 'Classics', 'Philosophy', 'Romance', 'Womens Fiction', 'Fiction', 'Childrens', 'Religion', 'Nonfiction', 'Music', 'Default', 'Science Fiction', 'Sports and Games', 'Add a comment', 'Fantasy', 'New Adult', 'Young Adult', 'Science', 'Poetry', 'Paranormal', 'Art', 'Psychology', 'Autobiography', 'Parenting', 'Adult Fiction', 'Humor', 'Horror', 'History', 'Food and Drink', 'Christian Fiction', 'Business', 'Biography', 'Thriller', 'Contemporary', 'Spirituality', 'Academic', 'Self Help', 'Historical', 'Christian', 'Suspense', 'Short Stories', 'Novels', 'Health', 'Politics', 'Cultural', 'Erotica', 'Crime']\n",
            "Enter a genre: travel\n",
            "https://books.toscrape.com/catalogue/category/books/travel_2/index.html\n"
          ]
        }
      ]
    },
    {
      "cell_type": "code",
      "source": [
        "import requests\n",
        "from bs4 import BeautifulSoup\n",
        "\n",
        "url = \"https://books.toscrape.com/catalogue/category/\"\n",
        "response = requests.get(url)\n",
        "soup = BeautifulSoup(response.content,'html.parser')\n",
        "flag = True\n",
        "\n",
        "websites = soup.find_all('div', class_='row')\n",
        "for website in websites:\n",
        "  ul = website.find('ul', class_='nav')\n",
        "  if ul:\n",
        "    genre_list = [li.get_text(strip=True) for li in ul.find_all('li')]\n",
        "genre_list.pop(0)\n",
        "genre_list.insert(0, \"All\")\n",
        "print(genre_list)\n",
        "userGenrePick = input(\"Enter a genre: \")\n",
        "for genre in genre_list:\n",
        "  counter = 2\n",
        "  if genre == userGenrePick.title():\n",
        "    url = 'https://books.toscrape.com/catalogue/category/books/' + genre.lower() + '_' + str(counter) + '/index.html'\n",
        "    print(url)\n",
        "    response = requests.get(url)\n",
        "    soup = BeautifulSoup(response.content,'html.parser')\n",
        "    for website in websites:\n",
        "      ol = website.find('ol')\n",
        "      if ol:\n",
        "        title = ol.find('h3')\n",
        "        if title:\n",
        "          print(title.text.strip())\n",
        "  else:\n",
        "    counter +=  1"
      ],
      "metadata": {
        "outputId": "2b6b4e30-692e-423a-e9b3-6b171eb5097b",
        "colab": {
          "base_uri": "https://localhost:8080/"
        },
        "id": "EtRN364HfJMj"
      },
      "execution_count": null,
      "outputs": [
        {
          "output_type": "stream",
          "name": "stdout",
          "text": [
            "['All', 'Travel', 'Mystery', 'Historical Fiction', 'Sequential Art', 'Classics', 'Philosophy', 'Romance', 'Womens Fiction', 'Fiction', 'Childrens', 'Religion', 'Nonfiction', 'Music', 'Default', 'Science Fiction', 'Sports and Games', 'Add a comment', 'Fantasy', 'New Adult', 'Young Adult', 'Science', 'Poetry', 'Paranormal', 'Art', 'Psychology', 'Autobiography', 'Parenting', 'Adult Fiction', 'Humor', 'Horror', 'History', 'Food and Drink', 'Christian Fiction', 'Business', 'Biography', 'Thriller', 'Contemporary', 'Spirituality', 'Academic', 'Self Help', 'Historical', 'Christian', 'Suspense', 'Short Stories', 'Novels', 'Health', 'Politics', 'Cultural', 'Erotica', 'Crime']\n",
            "Enter a genre: travel\n",
            "https://books.toscrape.com/catalogue/category/books/travel_2/index.html\n"
          ]
        }
      ]
    },
    {
      "cell_type": "code",
      "source": [
        "import requests\n",
        "from bs4 import BeautifulSoup\n",
        "\n",
        "def call_url(url):\n",
        "  response = requests.get(url)\n",
        "  soup = BeautifulSoup(response.content,'html.parser')\n",
        "  return soup\n",
        "\n",
        "url = call_url(\"https://books.toscrape.com\")\n",
        "flag = True\n",
        "websites = soup.find_all('div', class_='row')\n",
        "\n",
        "for website in websites:\n",
        "  ul = website.find('ul', class_='nav')\n",
        "  if ul:\n",
        "    genre_list = [li.get_text(strip=True) for li in ul.find_all('li')]\n",
        "    genre_list.pop(0)\n",
        "    genre_list.insert(0, \"All\")\n",
        "print(genre_list)\n",
        "\n",
        "userGenrePick = input(\"Enter a genre: \")\n",
        "for index, genre in enumerate(genre_list):\n",
        "  if genre == userGenrePick.title():\n",
        "    if userGenrePick == \"All\":\n",
        "      url = 'https://books.toscrape.com/catalogue/category/books_1/index.html'\n",
        "    else:\n",
        "      url = 'https://books.toscrape.com/catalogue/category/books/' + genre.lower() + '_' + str(index + 1) + '/index.html'\n",
        "\n",
        "    print(url)\n",
        "    soup = call_url(url)\n",
        "    genres = soup.find_all('div', class_='row')\n",
        "    for website in genres:\n",
        "      ol = website.find('ol')\n",
        "      if ol:\n",
        "        title = [title.get('title') for title in ol.find_all('a') if title.get('title')]\n",
        "        print(title)"
      ],
      "metadata": {
        "outputId": "469bb7f6-0291-44b2-ed5c-16eb7adcb636",
        "colab": {
          "base_uri": "https://localhost:8080/"
        },
        "id": "c2-KlEOxfNiA",
        "collapsed": true
      },
      "execution_count": 52,
      "outputs": [
        {
          "output_type": "stream",
          "name": "stdout",
          "text": [
            "['All', 'Travel', 'Mystery', 'Historical Fiction', 'Sequential Art', 'Classics', 'Philosophy', 'Romance', 'Womens Fiction', 'Fiction', 'Childrens', 'Religion', 'Nonfiction', 'Music', 'Default', 'Science Fiction', 'Sports and Games', 'Add a comment', 'Fantasy', 'New Adult', 'Young Adult', 'Science', 'Poetry', 'Paranormal', 'Art', 'Psychology', 'Autobiography', 'Parenting', 'Adult Fiction', 'Humor', 'Horror', 'History', 'Food and Drink', 'Christian Fiction', 'Business', 'Biography', 'Thriller', 'Contemporary', 'Spirituality', 'Academic', 'Self Help', 'Historical', 'Christian', 'Suspense', 'Short Stories', 'Novels', 'Health', 'Politics', 'Cultural', 'Erotica', 'Crime']\n",
            "Enter a genre: All\n",
            "https://books.toscrape.com/catalogue/category/books/all_1/index.html\n"
          ]
        }
      ]
    },
    {
      "cell_type": "code",
      "source": [],
      "metadata": {
        "id": "fvMnFIwNKlb7"
      },
      "execution_count": null,
      "outputs": []
    }
  ],
  "metadata": {
    "colab": {
      "name": "Welcome To Colab",
      "provenance": [],
      "include_colab_link": true
    },
    "kernelspec": {
      "display_name": "Python 3",
      "name": "python3"
    }
  },
  "nbformat": 4,
  "nbformat_minor": 0
}