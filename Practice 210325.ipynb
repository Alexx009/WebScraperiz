{
  "cells": [
    {
      "cell_type": "markdown",
      "metadata": {
        "id": "view-in-github",
        "colab_type": "text"
      },
      "source": [
        "<a href=\"https://colab.research.google.com/github/Alexx009/WebScraperiz/blob/main/Practice%20210325.ipynb\" target=\"_parent\"><img src=\"https://colab.research.google.com/assets/colab-badge.svg\" alt=\"Open In Colab\"/></a>"
      ]
    },
    {
      "cell_type": "code",
      "source": [
        "def sort_ASC(num_arr):\n",
        "  n = len(num_arr)\n",
        "  for i in range(n):\n",
        "    for j in range(n-i-1):\n",
        "      if num_arr[j] < num_arr[j+1]:\n",
        "        num_arr[j], num_arr[j+1] = num_arr[j], num_arr[j+1]\n",
        "  return num_arr\n",
        "\n",
        "\n",
        "array_list = [4,5,7,1,56,23]\n",
        "\n",
        "print(sort_ASC(array_list))"
      ],
      "metadata": {
        "id": "fvMnFIwNKlb7",
        "outputId": "ecec283e-1c61-4054-8e07-db9ba3dbf754",
        "colab": {
          "base_uri": "https://localhost:8080/"
        }
      },
      "execution_count": 268,
      "outputs": [
        {
          "output_type": "stream",
          "name": "stdout",
          "text": [
            "[4, 5, 7, 1, 56, 23]\n"
          ]
        }
      ]
    }
  ],
  "metadata": {
    "colab": {
      "name": "Welcome To Colab",
      "provenance": [],
      "include_colab_link": true
    },
    "kernelspec": {
      "display_name": "Python 3",
      "name": "python3"
    }
  },
  "nbformat": 4,
  "nbformat_minor": 0
}