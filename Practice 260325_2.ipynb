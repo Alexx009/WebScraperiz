{
  "cells": [
    {
      "cell_type": "markdown",
      "metadata": {
        "id": "view-in-github",
        "colab_type": "text"
      },
      "source": [
        "<a href=\"https://colab.research.google.com/github/Alexx009/WebScraperiz/blob/main/Practice%20260325_2.ipynb\" target=\"_parent\"><img src=\"https://colab.research.google.com/assets/colab-badge.svg\" alt=\"Open In Colab\"/></a>"
      ]
    },
    {
      "cell_type": "markdown",
      "source": [
        "abcd Call stack"
      ],
      "metadata": {
        "id": "TXE2LgzbGsht"
      }
    },
    {
      "cell_type": "code",
      "source": [
        "def Colaz(num):\n",
        "  user_input = int(num)\n",
        "  try:\n",
        "    if user_input % 2 == 0:\n",
        "      return user_input // 2\n",
        "    else:\n",
        "      return 3 * user_input + 1\n",
        "  except:\n",
        "    return \"Invalid Input\"\n",
        "\n",
        "\n",
        "\n",
        "\n",
        "user_input = input(\"Enter some number: \")\n",
        "\n",
        "print(Colaz(user_input))"
      ],
      "metadata": {
        "id": "M-BuO-swXAzl",
        "outputId": "4db9c2e5-9df2-4b3c-e927-2759170e1f0b",
        "colab": {
          "base_uri": "https://localhost:8080/"
        }
      },
      "execution_count": 36,
      "outputs": [
        {
          "output_type": "stream",
          "name": "stdout",
          "text": [
            "Enter some number: 5\n",
            "16\n"
          ]
        }
      ]
    }
  ],
  "metadata": {
    "colab": {
      "name": "Welcome To Colab",
      "provenance": [],
      "include_colab_link": true
    },
    "kernelspec": {
      "display_name": "Python 3",
      "name": "python3"
    }
  },
  "nbformat": 4,
  "nbformat_minor": 0
}