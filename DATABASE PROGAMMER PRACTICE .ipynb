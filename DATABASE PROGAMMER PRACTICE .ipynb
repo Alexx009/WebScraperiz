{
  "cells": [
    {
      "cell_type": "markdown",
      "metadata": {
        "id": "view-in-github",
        "colab_type": "text"
      },
      "source": [
        "<a href=\"https://colab.research.google.com/github/Alexx009/WebScraperiz/blob/main/DATABASE%20PROGAMMER%20PRACTICE%20.ipynb\" target=\"_parent\"><img src=\"https://colab.research.google.com/assets/colab-badge.svg\" alt=\"Open In Colab\"/></a>"
      ]
    },
    {
      "cell_type": "code",
      "source": [
        "import pandas as pd\n",
        "import numpy as np\n",
        "housing_document = pd.read_csv(\"/content/sample_data/california_housing_test.csv\")\n",
        "df = pd.DataFrame(housing_document);\n",
        "df.fillna(0)\n",
        "df.drop_duplicates(keep=\"first\")\n",
        "\n",
        "filtered_df = df[df[\"median_income\"] > 5]\n",
        "filtered_df = df.sort_values(by=\"population\")\n",
        "print(filtered_df)\n"
      ],
      "metadata": {
        "id": "fvMnFIwNKlb7",
        "outputId": "abd4c2b3-ac8d-4f15-8f70-cea05c5d9861",
        "colab": {
          "base_uri": "https://localhost:8080/"
        },
        "collapsed": true
      },
      "execution_count": null,
      "outputs": [
        {
          "output_type": "stream",
          "name": "stdout",
          "text": [
            "      longitude  latitude  housing_median_age  total_rooms  total_bedrooms  \\\n",
            "2640    -114.62     33.62                26.0         18.0             3.0   \n",
            "740     -117.12     32.66                52.0         16.0             4.0   \n",
            "1115    -116.95     33.86                 1.0          6.0             2.0   \n",
            "1355    -117.11     32.66                52.0         25.0             5.0   \n",
            "2494    -118.44     34.04                49.0         32.0             7.0   \n",
            "...         ...       ...                 ...          ...             ...   \n",
            "1597    -117.12     33.49                 4.0      21988.0          4055.0   \n",
            "2429    -117.20     33.58                 2.0      30450.0          5033.0   \n",
            "1146    -117.27     33.15                 4.0      23915.0          4135.0   \n",
            "2186    -116.14     34.45                12.0       8796.0          1721.0   \n",
            "978     -121.53     38.48                 5.0      27870.0          5027.0   \n",
            "\n",
            "      population  households  median_income  median_house_value  \n",
            "2640         5.0         3.0         0.5360            275000.0  \n",
            "740          8.0         3.0         1.1250             60000.0  \n",
            "1115         8.0         2.0         1.6250             55000.0  \n",
            "1355        14.0         9.0         1.6250            118800.0  \n",
            "2494        14.0         7.0         2.1875            225000.0  \n",
            "...          ...         ...            ...                 ...  \n",
            "1597      8824.0      3252.0         3.9963            191100.0  \n",
            "2429      9419.0      3197.0         4.5936            174300.0  \n",
            "1146     10877.0      3958.0         4.6357            244900.0  \n",
            "2186     11139.0      1680.0         2.2612            137500.0  \n",
            "978      11935.0      4855.0         4.8811            212200.0  \n",
            "\n",
            "[3000 rows x 9 columns]\n"
          ]
        }
      ]
    },
    {
      "cell_type": "code",
      "source": [
        "l1 = [3, 6, 9, 12, 15, 18, 21]\n",
        "l2 = [4, 8, 12, 16, 20, 24, 28]\n",
        "\n",
        "odd_l1_num = []\n",
        "even_l2_num = []\n",
        "\n",
        "for i in range(len(l1)):\n",
        "\n",
        "  if i % 2 != 0:\n",
        "    odd_l1_num.append(l1[i])\n",
        "print(f\"Element at odd-index positions from list one \\n{odd_l1_num}\")\n",
        "\n",
        "for j in range(len(l2)):\n",
        "  if j % 2 == 0:\n",
        "    even_l2_num.append(l2[j])\n",
        "print(f\"Element at even-index positions from list two \\n{even_l2_num}\\n\")\n",
        "\n",
        "print(odd_l1_num + even_l2_num)\n"
      ],
      "metadata": {
        "id": "-iHKisFkWl17",
        "outputId": "9cf832f1-9223-489a-a860-5688a0d0344b",
        "colab": {
          "base_uri": "https://localhost:8080/"
        }
      },
      "execution_count": null,
      "outputs": [
        {
          "output_type": "stream",
          "name": "stdout",
          "text": [
            "Element at odd-index positions from list one \n",
            "[6, 12, 18]\n",
            "Element at even-index positions from list two \n",
            "[4, 12, 20, 28]\n",
            "\n",
            "[6, 12, 18, 4, 12, 20, 28]\n"
          ]
        }
      ]
    },
    {
      "cell_type": "code",
      "source": [
        "from itertools import count\n",
        "sample_list = [11, 45, 8, 23, 14, 12, 78, 45, 89]\n",
        "counter = 0\n",
        "chunk_counter = 0\n",
        "chunk = []\n",
        "for sample in sample_list:\n",
        "  if counter < 4:\n",
        "    chunk.append(sample)\n",
        "    counter += 1\n",
        "  if counter == 3:\n",
        "    chunk_counter += 1\n",
        "    print(f\"Chunk {chunk_counter} {chunk}\")\n",
        "    print(f\"after reversing it {chunk[::-1]}\")\n",
        "    chunk = []\n",
        "    counter = 0\n"
      ],
      "metadata": {
        "id": "qVyW1GKRd1cT",
        "outputId": "88bdfa2f-fbca-4851-f1cf-149c9e1be3d5",
        "colab": {
          "base_uri": "https://localhost:8080/"
        }
      },
      "execution_count": null,
      "outputs": [
        {
          "output_type": "stream",
          "name": "stdout",
          "text": [
            "Chunk 1 [11, 45, 8]\n",
            "after reversing it [8, 45, 11]\n",
            "Chunk 2 [23, 14, 12]\n",
            "after reversing it [12, 14, 23]\n",
            "Chunk 3 [78, 45, 89]\n",
            "after reversing it [89, 45, 78]\n"
          ]
        }
      ]
    },
    {
      "cell_type": "code",
      "source": [
        "sample_list = [11, 45, 8, 11, 23, 45, 23, 45, 89]\n",
        "sample_dict = {}\n",
        "for sample in sample_list:\n",
        "  sample_dict[sample] = sample_dict.get(sample,0)+1\n",
        "\n",
        "\n",
        "print(f\"Printing each item {sample_dict}\")\n"
      ],
      "metadata": {
        "id": "1Y_bjLElhT6x",
        "outputId": "a0d0eb62-d5f4-4e41-d0ba-2012e1d2fec6",
        "colab": {
          "base_uri": "https://localhost:8080/"
        }
      },
      "execution_count": null,
      "outputs": [
        {
          "output_type": "stream",
          "name": "stdout",
          "text": [
            "Printing each item {11: 2, 45: 3, 8: 1, 23: 2, 89: 1}\n"
          ]
        }
      ]
    },
    {
      "cell_type": "code",
      "source": [
        "first_list = [2, 3, 4, 5, 6, 7, 8]\n",
        "second_list = [4, 9, 16, 25, 36, 49, 64]\n",
        "\n",
        "new_list = []\n",
        "\n",
        "for i in range(min(len(first_list), len(second_list))):\n",
        "  new_list.append((first_list[i], second_list[i]))\n",
        "\n",
        "print(new_list)"
      ],
      "metadata": {
        "id": "gRwuA5JTjm5N",
        "outputId": "f74e08bd-c0a6-4baf-a420-39d3cbe4503d",
        "colab": {
          "base_uri": "https://localhost:8080/"
        }
      },
      "execution_count": null,
      "outputs": [
        {
          "output_type": "stream",
          "name": "stdout",
          "text": [
            "[(2, 4), (3, 9), (4, 16), (5, 25), (6, 36), (7, 49), (8, 64)]\n"
          ]
        }
      ]
    },
    {
      "cell_type": "code",
      "source": [
        "first_set = {23, 42, 65, 57, 78, 83, 29}\n",
        "second_set = {57, 83, 29, 67, 73, 43, 48}\n",
        "combined_set = first_set.union(second_set)\n",
        "similar_val = []\n",
        "not_similar_val = []\n",
        "for i in first_set:\n",
        "  for j in second_set:\n",
        "    if i == j:\n",
        "      similar_val.append(i)\n",
        "for k in first_set:\n",
        "  if k not in similar_val:\n",
        "    not_similar_val.append(k)\n",
        "\n",
        "print(similar_val)\n",
        "print(not_similar_val)\n"
      ],
      "metadata": {
        "id": "-MJI8JWCAhVk",
        "outputId": "d80efe8b-b149-4280-8047-08b3cb4358fd",
        "colab": {
          "base_uri": "https://localhost:8080/"
        }
      },
      "execution_count": null,
      "outputs": [
        {
          "output_type": "stream",
          "name": "stdout",
          "text": [
            "[83, 57, 29]\n",
            "[65, 23, 42, 78]\n"
          ]
        }
      ]
    },
    {
      "cell_type": "code",
      "source": [
        "\n",
        "employees = [\n",
        "    {\"name\": \"Alice\", \"age\": 30, \"department\": \"HR\"},\n",
        "    {\"name\": \"Bob\", \"age\": 24, \"department\": \"Engineering\"},\n",
        "    {\"name\": \"Charlie\", \"age\": 29, \"department\": \"Engineering\"},\n",
        "    {\"name\": \"Diana\", \"age\": 35, \"department\": \"Marketing\"}\n",
        "]\n",
        "\n",
        "engineering_employees = [e for e in employees if e['department'] =='Engineering']\n",
        "print(engineering_employees)\n",
        "\n",
        "# for employee in employees:\n"
      ],
      "metadata": {
        "id": "XvJXMLlTZpa3",
        "outputId": "6786b85c-e92c-40f6-cddf-5d0205a6a590",
        "colab": {
          "base_uri": "https://localhost:8080/"
        }
      },
      "execution_count": null,
      "outputs": [
        {
          "output_type": "stream",
          "name": "stdout",
          "text": [
            "[{'name': 'Bob', 'age': 24, 'department': 'Engineering'}, {'name': 'Charlie', 'age': 29, 'department': 'Engineering'}]\n"
          ]
        }
      ]
    },
    {
      "cell_type": "code",
      "source": [
        "def grade_summary(grade_list):\n",
        "  if len(grade_list) < 5:\n",
        "    return 'list is not enough'\n",
        "  return round(sum(grade_list)/len(grade_list),2)\n",
        "\n",
        "\n",
        "grades = []\n",
        "\n",
        "for _ in range(5):\n",
        "  while True:\n",
        "    try:\n",
        "      grade = int(input(\"Enter a grade 0-100: \"))\n",
        "      if 0<= grade <= 100:\n",
        "        grades.append(grade)\n",
        "        break\n",
        "      else:\n",
        "        print('invalid')\n",
        "    except:\n",
        "      print('Invalid')\n",
        "\n",
        "print(grade_summary(grades))\n"
      ],
      "metadata": {
        "id": "k7UKniObdDpC",
        "outputId": "659c6046-886b-4894-9576-2253cdc748e6",
        "colab": {
          "base_uri": "https://localhost:8080/"
        }
      },
      "execution_count": 6,
      "outputs": [
        {
          "output_type": "stream",
          "name": "stdout",
          "text": [
            "Enter a grade 0-100: 89\n",
            "Enter a grade 0-100: 77\n",
            "Enter a grade 0-100: 89\n",
            "Enter a grade 0-100: 96\n",
            "Enter a grade 0-100: 99\n",
            "90.0\n"
          ]
        }
      ]
    }
  ],
  "metadata": {
    "colab": {
      "name": "Welcome To Colab",
      "provenance": [],
      "include_colab_link": true
    },
    "kernelspec": {
      "display_name": "Python 3",
      "name": "python3"
    }
  },
  "nbformat": 4,
  "nbformat_minor": 0
}