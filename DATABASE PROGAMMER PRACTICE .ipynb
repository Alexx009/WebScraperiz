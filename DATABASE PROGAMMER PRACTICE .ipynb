{
  "cells": [
    {
      "cell_type": "markdown",
      "metadata": {
        "id": "view-in-github",
        "colab_type": "text"
      },
      "source": [
        "<a href=\"https://colab.research.google.com/github/Alexx009/WebScraperiz/blob/main/DATABASE%20PROGAMMER%20PRACTICE%20.ipynb\" target=\"_parent\"><img src=\"https://colab.research.google.com/assets/colab-badge.svg\" alt=\"Open In Colab\"/></a>"
      ]
    },
    {
      "cell_type": "code",
      "source": [
        "import pandas as pd\n",
        "import numpy as np\n",
        "housing_document = pd.read_csv(\"/content/sample_data/california_housing_test.csv\")\n",
        "df = pd.DataFrame(housing_document);\n",
        "df.fillna(0)\n",
        "df.drop_duplicates(keep=\"first\")\n",
        "\n",
        "filtered_df = df[df[\"median_income\"] > 5]\n",
        "filtered_df = df.sort_values(by=\"population\")\n",
        "print(filtered_df)\n"
      ],
      "metadata": {
        "id": "fvMnFIwNKlb7",
        "outputId": "abd4c2b3-ac8d-4f15-8f70-cea05c5d9861",
        "colab": {
          "base_uri": "https://localhost:8080/"
        }
      },
      "execution_count": 39,
      "outputs": [
        {
          "output_type": "stream",
          "name": "stdout",
          "text": [
            "      longitude  latitude  housing_median_age  total_rooms  total_bedrooms  \\\n",
            "2640    -114.62     33.62                26.0         18.0             3.0   \n",
            "740     -117.12     32.66                52.0         16.0             4.0   \n",
            "1115    -116.95     33.86                 1.0          6.0             2.0   \n",
            "1355    -117.11     32.66                52.0         25.0             5.0   \n",
            "2494    -118.44     34.04                49.0         32.0             7.0   \n",
            "...         ...       ...                 ...          ...             ...   \n",
            "1597    -117.12     33.49                 4.0      21988.0          4055.0   \n",
            "2429    -117.20     33.58                 2.0      30450.0          5033.0   \n",
            "1146    -117.27     33.15                 4.0      23915.0          4135.0   \n",
            "2186    -116.14     34.45                12.0       8796.0          1721.0   \n",
            "978     -121.53     38.48                 5.0      27870.0          5027.0   \n",
            "\n",
            "      population  households  median_income  median_house_value  \n",
            "2640         5.0         3.0         0.5360            275000.0  \n",
            "740          8.0         3.0         1.1250             60000.0  \n",
            "1115         8.0         2.0         1.6250             55000.0  \n",
            "1355        14.0         9.0         1.6250            118800.0  \n",
            "2494        14.0         7.0         2.1875            225000.0  \n",
            "...          ...         ...            ...                 ...  \n",
            "1597      8824.0      3252.0         3.9963            191100.0  \n",
            "2429      9419.0      3197.0         4.5936            174300.0  \n",
            "1146     10877.0      3958.0         4.6357            244900.0  \n",
            "2186     11139.0      1680.0         2.2612            137500.0  \n",
            "978      11935.0      4855.0         4.8811            212200.0  \n",
            "\n",
            "[3000 rows x 9 columns]\n"
          ]
        }
      ]
    }
  ],
  "metadata": {
    "colab": {
      "name": "Welcome To Colab",
      "provenance": [],
      "include_colab_link": true
    },
    "kernelspec": {
      "display_name": "Python 3",
      "name": "python3"
    }
  },
  "nbformat": 4,
  "nbformat_minor": 0
}