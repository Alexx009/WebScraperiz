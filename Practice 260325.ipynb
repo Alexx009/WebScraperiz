{
  "cells": [
    {
      "cell_type": "markdown",
      "metadata": {
        "id": "view-in-github",
        "colab_type": "text"
      },
      "source": [
        "<a href=\"https://colab.research.google.com/github/Alexx009/WebScraperiz/blob/main/Practice%20260325.ipynb\" target=\"_parent\"><img src=\"https://colab.research.google.com/assets/colab-badge.svg\" alt=\"Open In Colab\"/></a>"
      ]
    },
    {
      "cell_type": "markdown",
      "source": [
        "abcd Call stack"
      ],
      "metadata": {
        "id": "TXE2LgzbGsht"
      }
    },
    {
      "cell_type": "code",
      "source": [
        "def a():\n",
        "  print(\"a() Start\")\n",
        "  b()\n",
        "  d()\n",
        "  print(\"a() End\")\n",
        "\n",
        "def b():\n",
        "  print(\"b() Start\")\n",
        "  c()\n",
        "  print(\"b() End\")\n",
        "\n",
        "def c():\n",
        "  print(\"c() Start\")\n",
        "  print(\"c() End\")\n",
        "\n",
        "def d():\n",
        "  print(\"d() Start\")\n",
        "  print(\"d() End\")\n",
        "\n",
        "a()"
      ],
      "metadata": {
        "colab": {
          "base_uri": "https://localhost:8080/"
        },
        "id": "KcrzI5PwGrwG",
        "outputId": "37830426-90b7-41d2-89c3-d509e54f7034"
      },
      "execution_count": 1,
      "outputs": [
        {
          "output_type": "stream",
          "name": "stdout",
          "text": [
            "a() Start\n",
            "b() Start\n",
            "c() Start\n",
            "c() End\n",
            "b() End\n",
            "d() Start\n",
            "d() End\n",
            "a() End\n"
          ]
        }
      ]
    },
    {
      "cell_type": "code",
      "source": [],
      "metadata": {
        "id": "1qjqknZ6ZwX2"
      },
      "execution_count": null,
      "outputs": []
    },
    {
      "cell_type": "code",
      "source": [
        "s"
      ],
      "metadata": {
        "id": "-jRC2ENUZxTG"
      },
      "execution_count": null,
      "outputs": []
    },
    {
      "cell_type": "code",
      "source": [
        "from pickle import FALSE\n",
        "# for i in range(1, 6):\n",
        "#   print(\" \"*1*(5-i) + \"*\"*8)\n",
        "# for j in range(1, 6):\n",
        "#   print(\" \"*1*(j) + \"*\"*8)\n",
        "\n",
        "\n",
        "import time, sys\n",
        "indent = 0\n",
        "indentIncreasing = True\n",
        "try:\n",
        "  while True:\n",
        "    print(' '*indent, end=\"\")\n",
        "    print(\"********\")\n",
        "    time.sleep(0.1)\n",
        "\n",
        "    if indentIncreasing:\n",
        "      indent += 1\n",
        "      if indent == 20:\n",
        "        indentIncreasing = False\n",
        "\n",
        "    else:\n",
        "      indent -= 1\n",
        "      if indent == 0:\n",
        "        break\n",
        "except KeyboardInterrupt:\n",
        "  print(\"Job well done\")\n"
      ],
      "metadata": {
        "id": "F35_jX3tMjS_"
      },
      "execution_count": null,
      "outputs": []
    },
    {
      "cell_type": "code",
      "source": [
        "def colaz(num):\n",
        "  if num % 2 == 0:\n",
        "    return num // 2\n",
        "  else:\n",
        "    return 3 * num + 1\n",
        "\n",
        "input = input()\n",
        "print(colaz(input))"
      ],
      "metadata": {
        "id": "HtEF-GO2dBwU",
        "outputId": "91ba876b-5de5-4dce-8484-162dca12d2fd",
        "colab": {
          "base_uri": "https://localhost:8080/",
          "height": 193
        }
      },
      "execution_count": 111,
      "outputs": [
        {
          "output_type": "error",
          "ename": "TypeError",
          "evalue": "'str' object is not callable",
          "traceback": [
            "\u001b[0;31m---------------------------------------------------------------------------\u001b[0m",
            "\u001b[0;31mTypeError\u001b[0m                                 Traceback (most recent call last)",
            "\u001b[0;32m<ipython-input-111-7fcefef58c92>\u001b[0m in \u001b[0;36m<cell line: 0>\u001b[0;34m()\u001b[0m\n\u001b[1;32m      5\u001b[0m     \u001b[0;32mreturn\u001b[0m \u001b[0;36m3\u001b[0m \u001b[0;34m*\u001b[0m \u001b[0mnum\u001b[0m \u001b[0;34m+\u001b[0m \u001b[0;36m1\u001b[0m\u001b[0;34m\u001b[0m\u001b[0;34m\u001b[0m\u001b[0m\n\u001b[1;32m      6\u001b[0m \u001b[0;34m\u001b[0m\u001b[0m\n\u001b[0;32m----> 7\u001b[0;31m \u001b[0minput\u001b[0m \u001b[0;34m=\u001b[0m \u001b[0minput\u001b[0m\u001b[0;34m(\u001b[0m\u001b[0;34m)\u001b[0m\u001b[0;34m\u001b[0m\u001b[0;34m\u001b[0m\u001b[0m\n\u001b[0m\u001b[1;32m      8\u001b[0m \u001b[0mprint\u001b[0m\u001b[0;34m(\u001b[0m\u001b[0mcolaz\u001b[0m\u001b[0;34m(\u001b[0m\u001b[0minput\u001b[0m\u001b[0;34m)\u001b[0m\u001b[0;34m)\u001b[0m\u001b[0;34m\u001b[0m\u001b[0;34m\u001b[0m\u001b[0m\n",
            "\u001b[0;31mTypeError\u001b[0m: 'str' object is not callable"
          ]
        }
      ]
    }
  ],
  "metadata": {
    "colab": {
      "name": "Welcome To Colab",
      "provenance": [],
      "include_colab_link": true
    },
    "kernelspec": {
      "display_name": "Python 3",
      "name": "python3"
    }
  },
  "nbformat": 4,
  "nbformat_minor": 0
}