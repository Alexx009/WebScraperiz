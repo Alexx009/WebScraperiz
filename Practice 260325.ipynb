{
  "cells": [
    {
      "cell_type": "markdown",
      "metadata": {
        "id": "view-in-github",
        "colab_type": "text"
      },
      "source": [
        "<a href=\"https://colab.research.google.com/github/Alexx009/WebScraperiz/blob/main/Practice%20260325.ipynb\" target=\"_parent\"><img src=\"https://colab.research.google.com/assets/colab-badge.svg\" alt=\"Open In Colab\"/></a>"
      ]
    },
    {
      "cell_type": "markdown",
      "source": [
        "abcd Call stack"
      ],
      "metadata": {
        "id": "TXE2LgzbGsht"
      }
    },
    {
      "cell_type": "code",
      "source": [
        "def a():\n",
        "  print(\"a() Start\")\n",
        "  b()\n",
        "  d()\n",
        "  print(\"a() End\")\n",
        "\n",
        "def b():\n",
        "  print(\"b() Start\")\n",
        "  c()\n",
        "  print(\"b() End\")\n",
        "\n",
        "def c():\n",
        "  print(\"c() Start\")\n",
        "  print(\"c() End\")\n",
        "\n",
        "def d():\n",
        "  print(\"d() Start\")\n",
        "  print(\"d() End\")\n",
        "\n",
        "a()"
      ],
      "metadata": {
        "colab": {
          "base_uri": "https://localhost:8080/"
        },
        "id": "KcrzI5PwGrwG",
        "outputId": "37830426-90b7-41d2-89c3-d509e54f7034"
      },
      "execution_count": 1,
      "outputs": [
        {
          "output_type": "stream",
          "name": "stdout",
          "text": [
            "a() Start\n",
            "b() Start\n",
            "c() Start\n",
            "c() End\n",
            "b() End\n",
            "d() Start\n",
            "d() End\n",
            "a() End\n"
          ]
        }
      ]
    },
    {
      "cell_type": "code",
      "source": [
        "for i in range(1, 6):\n",
        "  print(\" \"*1*(5-i) + \"*\"*8)\n",
        "for j in range(1, 6):\n",
        "  print(\" \"*1*(j) + \"*\"*8)"
      ],
      "metadata": {
        "colab": {
          "base_uri": "https://localhost:8080/"
        },
        "id": "F35_jX3tMjS_",
        "outputId": "194d1068-0972-4d4d-c3fd-5aed11126c04"
      },
      "execution_count": 89,
      "outputs": [
        {
          "output_type": "stream",
          "name": "stdout",
          "text": [
            "    ********\n",
            "   ********\n",
            "  ********\n",
            " ********\n",
            "********\n",
            " ********\n",
            "  ********\n",
            "   ********\n",
            "    ********\n",
            "     ********\n"
          ]
        }
      ]
    }
  ],
  "metadata": {
    "colab": {
      "name": "Welcome To Colab",
      "provenance": [],
      "include_colab_link": true
    },
    "kernelspec": {
      "display_name": "Python 3",
      "name": "python3"
    }
  },
  "nbformat": 4,
  "nbformat_minor": 0
}