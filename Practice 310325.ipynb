{
  "cells": [
    {
      "cell_type": "markdown",
      "metadata": {
        "id": "view-in-github",
        "colab_type": "text"
      },
      "source": [
        "<a href=\"https://colab.research.google.com/github/Alexx009/WebScraperiz/blob/main/Practice%20310325.ipynb\" target=\"_parent\"><img src=\"https://colab.research.google.com/assets/colab-badge.svg\" alt=\"Open In Colab\"/></a>"
      ]
    },
    {
      "cell_type": "code",
      "source": [
        "num_list = [3,25,2,24,99]\n",
        "\n",
        "def shortest_num(num_arr):\n",
        "  x = 0\n",
        "  #Check if the Array is No value and 1 value because you cannot compare a empty list and a single list then it will return the list\n",
        "  if num_arr is None or len(num_arr) < 2:\n",
        "    return num_arr\n",
        "  # This will iterate to each item in the list\n",
        "  for i in range(len(num_arr)):\n",
        "  # This will iterate item on the list from value 0 to the last value of the list but it will have another variable j which hold the value that will not exceed in the array\n",
        "    for j in range(0,i):\n",
        "      # this will check if value of first array which is i is less than the value of J which is the second value of i beacuse we add one index of each i until it reach the last digit of the list\n",
        "      if num_arr[i] < num_arr[j+1]:\n",
        "        #this will store the value if the value of num_arr[i] is < index 2 of num_arr[i]\n",
        "        x = num_arr[i]\n",
        "  #return the value of x\n",
        "  return x\n",
        "\n",
        "\n",
        "def lowest_num(num_arr):\n",
        "  if num_arr is None or len(num_arr) < 2:\n",
        "    return num_arr\n",
        "\n",
        "  x = num_arr[0]\n",
        "  for i in range(1, len(num_arr)):\n",
        "    if x > num_arr[i]:\n",
        "      x = num_arr[i]\n",
        "  return x\n",
        "\n",
        "def reverse_list(num_arr):\n",
        "  new_arr = []\n",
        "  if num_arr is None or len(num_arr) < 2:\n",
        "    return num_arr\n",
        "  for i in range(len(num_arr)-1, -1, -1):\n",
        "    new_arr.append(num_arr[i])\n",
        "  return new_arr\n",
        "\n",
        "def sort_ASC(num_arr):\n",
        "  new_arr = []\n",
        "  counter = 0\n",
        "  if num_arr is None or len(num_arr) < 2:\n",
        "    return num_arr\n",
        "  n = len(num_arr)\n",
        "  for i in range(n):\n",
        "      for j in range(0, n-i-1):\n",
        "          if num_arr[j] > num_arr[j+1]:\n",
        "              num_arr[j], num_arr[j+1] = num_arr[j+1], num_arr[j]\n",
        "  return num_arr\n",
        "\n",
        "\n",
        "\n",
        "\n",
        "result = shortest_num(num_list)\n",
        "result1 = lowest_num(num_list)\n",
        "result2 = reverse_list(num_list)\n",
        "result3 = sort_ASC(num_list)\n",
        "print(result3)"
      ],
      "metadata": {
        "id": "fvMnFIwNKlb7",
        "outputId": "393d2530-1119-4143-db19-bd645ef331c7",
        "colab": {
          "base_uri": "https://localhost:8080/"
        }
      },
      "execution_count": 233,
      "outputs": [
        {
          "output_type": "stream",
          "name": "stdout",
          "text": [
            "[2, 3, 24, 25, 99]\n"
          ]
        }
      ]
    }
  ],
  "metadata": {
    "colab": {
      "name": "Welcome To Colab",
      "provenance": [],
      "include_colab_link": true
    },
    "kernelspec": {
      "display_name": "Python 3",
      "name": "python3"
    }
  },
  "nbformat": 4,
  "nbformat_minor": 0
}