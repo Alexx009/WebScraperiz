{
  "cells": [
    {
      "cell_type": "markdown",
      "metadata": {
        "id": "view-in-github",
        "colab_type": "text"
      },
      "source": [
        "<a href=\"https://colab.research.google.com/github/Alexx009/WebScraperiz/blob/main/Practice%20030425.ipynb\" target=\"_parent\"><img src=\"https://colab.research.google.com/assets/colab-badge.svg\" alt=\"Open In Colab\"/></a>"
      ]
    },
    {
      "cell_type": "markdown",
      "source": [],
      "metadata": {
        "id": "i1VxAKMPJkEV"
      }
    },
    {
      "cell_type": "code",
      "source": [
        "play_card = []\n",
        "spade_card = ['Spade2', 'Spade3','Spade4', 'Spade5', 'Spade6','Spade7', 'Spade8', 'Spade9', 'Spade10', 'SpadeJoker', 'SpadeQueen', 'SpadeKing', 'SpadeAce' ]\n",
        "Clubs_card = ['Clubs2', 'Clubs3','Clubs4', 'Clubs5', 'Clubs6','Clubs7', 'Clubs8', 'Clubs9', 'Clubs10', 'ClubsJoker', 'ClubsQueen', 'ClubsKing', 'ClubsAce' ]\n",
        "spade_card = ['Heart2', 'Heart3','Heart4', 'Heart5', 'Heart6','Heart7', 'Heart8', 'Heart9', 'Heart10', 'HeartJoker', 'HeartQueen', 'HeartKing', 'HeartAce' ]\n",
        "spade_card = ['Diamond2', 'Diamond3','Diamond4', 'Diamond5', 'Diamond6','Diamond7', 'Diamond8', 'Diamond9', 'Diamond10', 'DiamondJoker', 'DiamondQueen', 'DiamondKing', 'DiamondAce' ]"
      ],
      "metadata": {
        "id": "UEPOqteV-ieN"
      },
      "execution_count": null,
      "outputs": []
    }
  ],
  "metadata": {
    "colab": {
      "name": "Welcome To Colab",
      "provenance": [],
      "include_colab_link": true
    },
    "kernelspec": {
      "display_name": "Python 3",
      "name": "python3"
    }
  },
  "nbformat": 4,
  "nbformat_minor": 0
}