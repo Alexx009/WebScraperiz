{
  "cells": [
    {
      "cell_type": "markdown",
      "metadata": {
        "id": "view-in-github",
        "colab_type": "text"
      },
      "source": [
        "<a href=\"https://colab.research.google.com/github/Alexx009/WebScraperiz/blob/main/Practice%20030425.ipynb\" target=\"_parent\"><img src=\"https://colab.research.google.com/assets/colab-badge.svg\" alt=\"Open In Colab\"/></a>"
      ]
    },
    {
      "cell_type": "markdown",
      "source": [],
      "metadata": {
        "id": "i1VxAKMPJkEV"
      }
    },
    {
      "cell_type": "code",
      "source": [
        "import random\n",
        "play_card = []\n",
        "deck = []\n",
        "Spade_card = ['Spade2', 'Spade3','Spade4', 'Spade5', 'Spade6','Spade7', 'Spade8', 'Spade9', 'Spade10', 'Spade11', 'Spade12', 'Spade13', 'Spade14' ]\n",
        "Clubs_card = ['Clubs2', 'Clubs3','Clubs4', 'Clubs5', 'Clubs6','Clubs7', 'Clubs8', 'Clubs9', 'Clubs10', 'Clubs11', 'Clubs12', 'Clubs13', 'Clubs14' ]\n",
        "Heart_card = ['Heart2', 'Heart3','Heart4', 'Heart5', 'Heart6','Heart7', 'Heart8', 'Heart9', 'Heart10', 'Heart11', 'Heart12', 'Heart13', 'Heart14' ]\n",
        "Diamond_card = ['Diamond2', 'Diamond3','Diamond4', 'Diamond5', 'Diamond6','Diamond7', 'Diamond8', 'Diamond9', 'Diamond10', 'Diamond11', 'Diamond12', 'Diamond13', 'Diamond14' ]\n",
        "Cards = [Spade_card, Clubs_card, Heart_card, Diamond_card]\n",
        "discard_the_card = []\n",
        "def discard_cards():\n",
        "  num_discards = len(discard_the_card)\n",
        "  for discarded in discard_the_card:\n",
        "    for i in deck:\n",
        "      if discarded == i:\n",
        "        card_to_remove = deck.remove(discarded)\n",
        "  random_cards(num_discards)\n",
        "\n",
        "def random_cards(pop_cards):\n",
        "  for _ in range(pop_cards):  # Example loop to perform multiple operations\n",
        "      random_deck = random.randint(0, len(Cards) - 1)\n",
        "      random_card = random.randint(0, len(Cards[random_deck]) - 1)  # Ensure the index is within the range of the selected deck\n",
        "\n",
        "      if Cards[random_deck][random_card] not in deck:\n",
        "          card_to_add = Cards[random_deck].pop(random_card)  # Correctly remove the card\n",
        "          deck.append(card_to_add)\n",
        "\n",
        "def add_discard(value):\n",
        "  discard_the_card.append(value)\n",
        "\n",
        "random_cards(10)\n",
        "Diamond_in_hand = 0\n",
        "Heart_in_hand = 0\n",
        "Clubs_in_hand = 0\n",
        "Spade_in_hand = 0\n",
        "print(deck)\n",
        "\n",
        "disc_card = input(\"Enter Discard Cards: \")\n",
        "add_discard(disc_card)\n",
        "disc_card = input(\"Enter Discard Cards: \")\n",
        "add_discard(disc_card)\n",
        "\n",
        "discard_cards()\n",
        "print(deck)\n",
        "for i in deck:\n",
        "  if i[0:-2] == 'Diamond' or i[0:-2] == 'Diamon':\n",
        "    Diamond_in_hand += 1\n",
        "  if i[0:-2] == 'Clubs' or i[0:-2] == 'Cluv':\n",
        "    Clubs_in_hand += 1\n",
        "  if i[0:-2] == 'Spade' or i[0:-2] == 'Spad':\n",
        "    Spade_in_hand += 1\n",
        "  if i[0:-2] == 'Heart' or i[0:-2] == 'Hear':\n",
        "    Heart_in_hand += 1\n",
        "\n",
        "if Diamond_in_hand >= 5:\n",
        "  print(\"Can Play Diamond Flush\")\n",
        "elif Clubs_in_hand >= 5:\n",
        "  print(\"Can Play Clubs Flush\")\n",
        "elif Spade_in_hand >= 5:\n",
        "  print(\"Can Play Spade Flush\")\n",
        "elif Heart_in_hand >= 5:\n",
        "  print(\"Can Play Heart Flush\")\n",
        "else:\n",
        "  print(\"No Flush\")"
      ],
      "metadata": {
        "id": "UEPOqteV-ieN",
        "colab": {
          "base_uri": "https://localhost:8080/"
        },
        "outputId": "78461880-d17d-4263-8b7a-08a888bd2696"
      },
      "execution_count": 181,
      "outputs": [
        {
          "output_type": "stream",
          "name": "stdout",
          "text": [
            "['Clubs12', 'Clubs10', 'Clubs4', 'Heart4', 'Diamond4', 'Heart14', 'Diamond10', 'Diamond14', 'Clubs3', 'Spade3']\n",
            "Enter Discard Cards: Clubs10\n",
            "Enter Discard Cards: Clubs4\n",
            "['Clubs12', 'Heart4', 'Diamond4', 'Heart14', 'Diamond10', 'Diamond14', 'Clubs3', 'Spade3', 'Clubs9', 'Clubs13']\n",
            "No Flush\n"
          ]
        }
      ]
    }
  ],
  "metadata": {
    "colab": {
      "name": "Welcome To Colab",
      "provenance": [],
      "include_colab_link": true
    },
    "kernelspec": {
      "display_name": "Python 3",
      "name": "python3"
    }
  },
  "nbformat": 4,
  "nbformat_minor": 0
}