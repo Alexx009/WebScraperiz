{
  "cells": [
    {
      "cell_type": "markdown",
      "metadata": {
        "id": "view-in-github",
        "colab_type": "text"
      },
      "source": [
        "<a href=\"https://colab.research.google.com/github/Alexx009/WebScraperiz/blob/main/Practice%20100425.ipynb\" target=\"_parent\"><img src=\"https://colab.research.google.com/assets/colab-badge.svg\" alt=\"Open In Colab\"/></a>"
      ]
    },
    {
      "cell_type": "code",
      "source": [
        "import os\n",
        "import pandas as pd\n",
        "\n",
        "file_path = '/content/NMON FILES'  # Directory containing the files\n",
        "new_file_name = \"new_file.xlsx\"\n",
        "file_url = \"/path/to/files\"  # Replace with your actual file path\n",
        "avg_data = []\n",
        "data = {\n",
        "}\n",
        "\n",
        "# List all files in the directory\n",
        "for file in os.listdir(file_path):\n",
        "    if file.endswith(\".xlsx\") and file != new_file_name:\n",
        "        read_file = pd.read_excel(os.path.join(file_path, file), header=None)\n",
        "        date = file[18:20] + \"/\" + file[16:18] +  \"/\" + file[14:16]\n",
        "        data[date] = []\n",
        "        for i in range(2,20):\n",
        "          cell_data = read_file.iloc[22, i]\n",
        "          data[date].append(cell_data)\n",
        "df = pd.DataFrame(data['01/03/25'])\n",
        "\n",
        "# Write the DataFrame to an Excel file\n",
        "df.to_excel(os.path.join(file_path, new_file_name), index=False)\n",
        "print(data)\n",
        "\n",
        "\n"
      ],
      "metadata": {
        "id": "oIXMMkL6Exxy",
        "outputId": "dc931d48-7715-4352-8732-44bb96cba8e6",
        "colab": {
          "base_uri": "https://localhost:8080/"
        }
      },
      "execution_count": 39,
      "outputs": [
        {
          "output_type": "stream",
          "name": "stdout",
          "text": [
            "{'Date': [], 'Avg': [], '29/03/25': [60.7, 43.5, 63.5, 68.4, 73.7, 0.1, 36.2, 0, 59.4, 12.3, 0.2, 84.9, 55.4, 60.8, 41.3, 60.4, 11, 53.2], '22/03/25': [60, 43.5, 63.5, 68.4, 73.6, 0.1, 36.2, 0, 59.4, 12.3, 0.2, 84.9, 55.4, 60.8, 41.3, 68.5, 11, 53.2], '08/03/25': [54.6, 43.5, datetime.datetime(1900, 3, 3, 12, 0), datetime.datetime(1900, 3, 8, 9, 36), datetime.datetime(1900, 3, 19, 19, 12), 0.1, 36.2, 0, 59.4, 12.3, 0.2, 84.9, 55.4, 60.8, 41.3, 68.5, 11, 53.2], '27/03/25': [60.5, 43.5, 63.5, 68.5, 73.7, 0.1, 36.2, 0, 59.4, 12.3, 0.2, 84.9, 55.4, 60.8, 41.3, 60.4, 11, 53.2], '05/03/25': [0, 0, datetime.time(0, 0), datetime.time(0, 0), datetime.time(0, 0), 0, 0, 0, 0, 0, 0, 0, 0, 0, 0, 0, 0, 0], '20/03/25': [59.9, 43.5, 63.5, 68.4, 73.7, 0.1, 36.2, 0, 59.4, 12.3, 0.2, 84.9, 55.4, 60.8, 41.3, 68.5, 11, 53.2], '03/03/25': [58.9, 43.5, datetime.datetime(1900, 3, 3, 9, 36), datetime.datetime(1900, 3, 8, 9, 36), datetime.datetime(1900, 3, 13, 19, 12), 0.1, 36.2, 0, 59.4, 12.3, 0.2, 84.9, 55.4, 60.8, 41.3, 65.8, 11, 53.2], '01/03/25': [58.7, 43.5, 63.4, 68.3, 73.7, 0.1, 36.2, 0, 59.4, 12.3, 0.2, 84.9, 55.4, 60.8, 41.3, 60.3, 11, 53.2], '02/03/25': [58.8, 43.5, datetime.datetime(1900, 3, 3, 9, 36), datetime.datetime(1900, 3, 8, 9, 36), datetime.datetime(1900, 3, 13, 19, 12), 0.1, 36.2, 0, 59.4, 12.3, 0.2, 84.9, 55.4, 60.8, 41.3, 63.1, 11, 53.2], '12/03/25': [0, 0, datetime.time(0, 0), datetime.time(0, 0), datetime.time(0, 0), 0, 0, 0, 0, 0, 0, 0, 0, 0, 0, 0, 0, 0], '17/03/25': [59.7, 43.5, 63.5, 68.5, 73.8, 0.1, 36.2, 0, 59.4, 12.3, 0.2, 84.9, 55.4, 60.8, 41.3, 68.5, 11, 53.2], '09/03/25': [59.2, 43.5, datetime.datetime(1900, 3, 3, 12, 0), datetime.datetime(1900, 3, 8, 9, 36), datetime.datetime(1900, 3, 13, 14, 24), 0.1, 36.2, 0, 59.4, 12.3, 0.2, 84.9, 55.4, 60.8, 41.3, 68.5, 11, 53.2], '15/03/25': [59.5, 43.5, datetime.datetime(1900, 3, 3, 12, 0), datetime.datetime(1900, 3, 8, 9, 36), datetime.datetime(1900, 3, 13, 16, 48), 0.1, 36.2, 0, 59.4, 12.3, 0.2, 84.9, 55.4, 60.8, 41.3, 63.1, 11, 53.2], '14/03/25': [0, 0, datetime.time(0, 0), datetime.time(0, 0), datetime.time(0, 0), 0, 0, 0, 0, 0, 0, 0, 0, 0, 0, 0, 0, 0], '06/03/25': [59, 43.5, datetime.datetime(1900, 3, 3, 12, 0), datetime.datetime(1900, 3, 8, 7, 12), datetime.datetime(1900, 3, 13, 16, 48), 0.1, 36.2, 0, 59.4, 12.3, 0.2, 84.9, 55.4, 60.8, 41.3, 68.5, 11, 53.2], '07/03/25': [0, 0, datetime.time(0, 0), datetime.time(0, 0), datetime.time(0, 0), 0, 0, 0, 0, 0, 0, 0, 0, 0, 0, 0, 0, 0], '21/03/25': [0, 0, 0, 0, 0, 0, 0, 0, 0, 0, 0, 0, 0, 0, 0, 0, 0, 0], '31/03/25': [60.8, 43.6, 63.5, 68.5, 73.8, 0.1, 36.2, 0, 59.4, 12.3, 0.2, 84.9, 55.4, 60.8, 41.3, 65.8, 11, 53.2], '13/03/25': [59.4, 43.5, datetime.datetime(1900, 3, 3, 12, 0), datetime.datetime(1900, 3, 8, 9, 36), datetime.datetime(1900, 3, 13, 16, 48), 0.1, 36.2, 0, 59.4, 12.3, 0.2, 84.9, 55.4, 60.8, 41.3, 63.1, 11, 53.2], '19/03/25': [0, 0, 0, 0, 0, 0, 0, 0, 0, 0, 0, 0, 0, 0, 0, 0, 0, 0], '18/03/25': [59.7, 43.5, 63.5, 68.4, 73.8, 0.1, 36.2, 0, 59.4, 12.3, 0.2, 84.9, 55.4, 60.8, 41.3, 68.5, 11, 53.2], '04/03/25': [58.9, 43.5, datetime.datetime(1900, 3, 3, 9, 36), datetime.datetime(1900, 3, 8, 7, 12), datetime.datetime(1900, 3, 13, 19, 12), 0.1, 36.2, 0, 59.4, 12.3, 0.2, 84.9, 55.4, 60.8, 41.3, 68.5, 11, 53.2], '23/03/25': [60, 43.5, 63.5, 68.5, 73.6, 0.1, 36.2, 0, 59.4, 12.3, 0.2, 84.9, 55.4, 60.8, 41.3, 68.5, 11, 53.2], '28/03/25': [0, 0, 0, 0, 0, 0, 0, 0, 0, 0, 0, 0, 0, 0, 0, 0, 0, 0], '25/03/25': [60.4, 43.5, 63.5, 68.4, 73.7, 0.1, 36.2, 0, 59.4, 12.3, 0.2, 84.9, 55.4, 60.8, 41.3, 63.1, 11, 53.2], '10/03/25': [0, 0, datetime.time(0, 0), datetime.time(0, 0), datetime.time(0, 0), 0, 0, 0, 0, 0, 0, 0, 0, 0, 0, 0, 0, 0], '16/03/25': [59.6, 43.5, 63.5, 68.4, 73.8, 0.1, 36.2, 0, 59.4, 12.3, 0.2, 84.9, 55.4, 60.8, 41.3, 65.8, 11, 53.2], '30/03/25': [60.7, 43.5, 63.5, 68.5, 73.8, 0.1, 36.2, 0, 59.4, 12.3, 0.2, 84.9, 55.4, 60.8, 41.3, 63.1, 11, 53.2], '24/03/25': [60.4, 43.5, 63.5, 68.5, 73.6, 0.1, 36.2, 0, 59.4, 12.3, 0.2, 84.9, 55.4, 60.8, 41.3, 63, 11, 53.2], '26/03/25': [0, 0, 0, 0, 0, 0, 0, 0, 0, 0, 0, 0, 0, 0, 0, 0, 0, 0], '11/03/25': [59.3, 43.5, datetime.datetime(1900, 3, 3, 12, 0), datetime.datetime(1900, 3, 8, 9, 36), datetime.datetime(1900, 3, 13, 19, 12), 0.1, 36.2, 0, 59.4, 12.3, 0.2, 84.9, 55.4, 60.8, 41.3, 63.1, 11, 53.2]}\n"
          ]
        }
      ]
    },
    {
      "cell_type": "code",
      "source": [
        "# Specify the file path and name\n",
        "file_path = 'your/file/path'\n",
        "file_name = 'new_file.xlsx'\n",
        "\n",
        "# Write the DataFrame to an Excel file\n",
        "df.to_excel(os.path.join(file_path, file_name), index=False)"
      ],
      "metadata": {
        "id": "EqargSzvOiip"
      },
      "execution_count": null,
      "outputs": []
    }
  ],
  "metadata": {
    "colab": {
      "name": "Welcome To Colab",
      "provenance": [],
      "include_colab_link": true
    },
    "kernelspec": {
      "display_name": "Python 3",
      "name": "python3"
    }
  },
  "nbformat": 4,
  "nbformat_minor": 0
}