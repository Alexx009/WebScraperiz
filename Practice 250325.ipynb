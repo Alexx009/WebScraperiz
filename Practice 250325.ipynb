{
  "cells": [
    {
      "cell_type": "markdown",
      "metadata": {
        "id": "view-in-github",
        "colab_type": "text"
      },
      "source": [
        "<a href=\"https://colab.research.google.com/github/Alexx009/WebScraperiz/blob/main/Practice%20250325.ipynb\" target=\"_parent\"><img src=\"https://colab.research.google.com/assets/colab-badge.svg\" alt=\"Open In Colab\"/></a>"
      ]
    },
    {
      "cell_type": "code",
      "source": [
        "import random\n",
        "\n",
        "def rand_num():\n",
        "  return random.randint(1, 10)\n",
        "\n",
        "def hint(num, ans):\n",
        "  if num < ans:\n",
        "    return 'Hint: The number is higher'\n",
        "  elif num > ans:\n",
        "    return 'Hint: The number is lower'\n",
        "  else:\n",
        "    return 'WOW!!'\n",
        "\n",
        "\n",
        "guess_num = rand_num()\n",
        "\n",
        "for i in range(1,4):\n",
        "  try:\n",
        "\n",
        "    ans = int(input(f'Guess the number between 1 and 10 {i}/3: '))\n",
        "    print(hint(ans, guess_num))\n",
        "    if ans == guess_num:\n",
        "      print(f'Correct!!!, The answer is {guess_num}')\n",
        "      break\n",
        "    elif i == 3:\n",
        "      print(f'Out of guesses, The answer is  {guess_num}')\n",
        "\n",
        "  except:\n",
        "    print('Invalid input')"
      ],
      "metadata": {
        "id": "ZVOmE1ZevDPv",
        "outputId": "37f351be-cc28-40ec-bfda-83796d34664f",
        "colab": {
          "base_uri": "https://localhost:8080/"
        }
      },
      "execution_count": 3,
      "outputs": [
        {
          "output_type": "stream",
          "name": "stdout",
          "text": [
            "Guess the number between 1 and 10 1/3: 4\n",
            "Hint: The number is lower\n",
            "Guess the number between 1 and 10 2/3: 2\n",
            "WOW!!\n",
            "Correct!!!, The answer is 2\n"
          ]
        }
      ]
    },
    {
      "cell_type": "code",
      "source": [
        "import random\n",
        "\n",
        "print(\"Lets play Rock, Paper, Scissor\")\n",
        "choices = [\"rock\", \"paper\", \"scissor\"]\n",
        "\n",
        "def computer_pick():\n",
        "  return random.choice(choices)\n",
        "def winner(p1, p2):\n",
        "  if p1 == p2:\n",
        "    return f\"Draw\\n{scoring(0)}\"\n",
        "  elif (p2 == \"rock\" and p1 == \"scissor\") or (p2 == \"scissor\" and p1 == \"paper\") or (p2 == \"paper\" and p1 == \"rock\" ):\n",
        "    return f\"AI win!!!\\n{scoring(1)}\"\n",
        "  else:\n",
        "    return f\"You win!!\\n{scoring(2)}\"\n",
        "\n",
        "def scoring(win):\n",
        "  global ai_score, p1_score, tie\n",
        "\n",
        "  if win == 0:\n",
        "    tie = tie + 1\n",
        "  elif win == 1:\n",
        "    ai_score = ai_score + 1\n",
        "  else:\n",
        "    p1_score = p1_score + 1\n",
        "  return f\"\\nYou = {p1_score}\\nAI = {ai_score}\\nTie = {tie}\\n\"\n",
        "\n",
        "while True:\n",
        "  ans = input(str(\"Pick your answer: \").lower())\n",
        "  ai_ans = computer_pick()\n",
        "  if ans == \"quit\":\n",
        "    print(\"Bye\")\n",
        "    break\n",
        "  elif ans in choices:\n",
        "    print(f'Ai pick: {ai_ans}')\n",
        "    print(f'Your pick: {ans}')\n",
        "    print(winner(ans, ai_ans))\n",
        "  else:\n",
        "    print(\"Invalid input\")\n",
        "\n",
        "\n"
      ],
      "metadata": {
        "id": "5tWFILFmymJa"
      },
      "execution_count": null,
      "outputs": []
    },
    {
      "cell_type": "code",
      "source": [
        "spam = str(input(\"Enter something: \"))\n",
        "if spam == \"1\":\n",
        "  print('Hello')\n",
        "elif spam == \"2\":\n",
        "  print('Howdy')\n",
        "else:\n",
        "  print(\"Greetings\")"
      ],
      "metadata": {
        "id": "PjwH9ef8C1lS",
        "outputId": "8bbb07e7-d126-48f6-c32c-dd682865080d",
        "colab": {
          "base_uri": "https://localhost:8080/"
        }
      },
      "execution_count": 9,
      "outputs": [
        {
          "output_type": "stream",
          "name": "stdout",
          "text": [
            "Enter something: 21\n",
            "Greetings\n"
          ]
        }
      ]
    },
    {
      "cell_type": "code",
      "source": [
        "def Hello():\n",
        "  print(\"Hello\")\n",
        "  print(\"Howdy\")\n",
        "  print(\"Ola\")\n",
        "\n",
        "\n",
        "Hello()\n",
        "Hello()\n",
        "Hello()\n"
      ],
      "metadata": {
        "id": "m93zW4MuC9e2",
        "outputId": "48435dca-ef7a-4a98-fb56-7938f9b6131d",
        "colab": {
          "base_uri": "https://localhost:8080/"
        }
      },
      "execution_count": 39,
      "outputs": [
        {
          "output_type": "stream",
          "name": "stdout",
          "text": [
            "Hello\n",
            "Howdy\n",
            "Ola\n",
            "Hello\n",
            "Howdy\n",
            "Ola\n",
            "Hello\n",
            "Howdy\n",
            "Ola\n"
          ]
        }
      ]
    },
    {
      "cell_type": "code",
      "source": [],
      "metadata": {
        "id": "cOe_O66zEQNf"
      },
      "execution_count": null,
      "outputs": []
    }
  ],
  "metadata": {
    "colab": {
      "name": "Welcome To Colab",
      "provenance": [],
      "include_colab_link": true
    },
    "kernelspec": {
      "display_name": "Python 3",
      "name": "python3"
    }
  },
  "nbformat": 4,
  "nbformat_minor": 0
}